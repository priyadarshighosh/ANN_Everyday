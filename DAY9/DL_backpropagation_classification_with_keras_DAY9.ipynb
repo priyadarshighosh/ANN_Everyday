{
  "nbformat": 4,
  "nbformat_minor": 0,
  "metadata": {
    "colab": {
      "private_outputs": true,
      "provenance": [],
      "toc_visible": true,
      "authorship_tag": "ABX9TyNJnmSVUcxGd35B0n3RfLJk",
      "include_colab_link": true
    },
    "kernelspec": {
      "name": "python3",
      "display_name": "Python 3"
    },
    "language_info": {
      "name": "python"
    }
  },
  "cells": [
    {
      "cell_type": "markdown",
      "metadata": {
        "id": "view-in-github",
        "colab_type": "text"
      },
      "source": [
        "<a href=\"https://colab.research.google.com/github/priyadarshighosh/Study-DL-Everyday/blob/main/DAY9/DL_backpropagation_classification_with_keras_DAY9.ipynb\" target=\"_parent\"><img src=\"https://colab.research.google.com/assets/colab-badge.svg\" alt=\"Open In Colab\"/></a>"
      ]
    },
    {
      "cell_type": "markdown",
      "source": [
        "#  Back Propagation using KERAS"
      ],
      "metadata": {
        "id": "Df4TMwFKyMtq"
      }
    },
    {
      "cell_type": "markdown",
      "source": [
        "Our Hand Made DATASET"
      ],
      "metadata": {
        "id": "2-Jr1u3jye5F"
      }
    },
    {
      "cell_type": "code",
      "execution_count": null,
      "metadata": {
        "id": "nxkkLEgfw8aY"
      },
      "outputs": [],
      "source": [
        "import numpy as np\n",
        "import pandas as pd\n",
        "import matplotlib.pyplot as plt\n",
        "import seaborn as sns\n",
        ""
      ]
    },
    {
      "cell_type": "code",
      "source": [
        "df=pd.DataFrame([[8,8,1],[7,9,1],[6,10,0],[5,12,0]],columns=['cgpa', 'profile_score', 'placed'])\n",
        "df"
      ],
      "metadata": {
        "id": "nBxyudtAxx1l"
      },
      "execution_count": null,
      "outputs": []
    },
    {
      "cell_type": "markdown",
      "source": [
        "#  Importing KERAS"
      ],
      "metadata": {
        "id": "umdgd09kyjYe"
      }
    },
    {
      "cell_type": "markdown",
      "source": [
        "We gonna do the same code with keras\n",
        "\n",
        "We will see the difference"
      ],
      "metadata": {
        "id": "98xCQvhUypGX"
      }
    },
    {
      "cell_type": "code",
      "source": [
        "import tensorflow\n",
        "from tensorflow import keras\n",
        "from keras import Sequential\n",
        "from keras.layers import Dense"
      ],
      "metadata": {
        "id": "hxsqP0TFx4KA"
      },
      "execution_count": null,
      "outputs": []
    },
    {
      "cell_type": "markdown",
      "source": [
        "Making the Architechture with the sigmoid ACTIVATION FUNCTION\n"
      ],
      "metadata": {
        "id": "B-HGZfNOywB1"
      }
    },
    {
      "cell_type": "code",
      "source": [
        "model = Sequential()\n",
        "model.add(Dense(2,activation='sigmoid',input_dim=2))            #making the architechture\n",
        "model.add(Dense(1,activation='sigmoid'))"
      ],
      "metadata": {
        "id": "4gU7M5Jxx4uY"
      },
      "execution_count": null,
      "outputs": []
    },
    {
      "cell_type": "code",
      "source": [
        "model.summary()"
      ],
      "metadata": {
        "id": "cgjQX3FeyA0Q"
      },
      "execution_count": null,
      "outputs": []
    },
    {
      "cell_type": "code",
      "source": [
        "model.get_weights()"
      ],
      "metadata": {
        "id": "ws9lXh6byGDh"
      },
      "execution_count": null,
      "outputs": []
    },
    {
      "cell_type": "markdown",
      "source": [
        "keras assigns the weights randomly"
      ],
      "metadata": {
        "id": "8WUyOkdiy6L-"
      }
    },
    {
      "cell_type": "code",
      "source": [
        "#Like Our PREVIOUS PROGRAM WE GONNA INITIATE THE WEIGHTS AS 0.1 AND BIASES AS 0"
      ],
      "metadata": {
        "id": "FbgEjJc-y_31"
      },
      "execution_count": null,
      "outputs": []
    },
    {
      "cell_type": "markdown",
      "source": [
        "Our weights - 0.1 and bias - 0"
      ],
      "metadata": {
        "id": "m-czvZ0m0OHm"
      }
    },
    {
      "cell_type": "markdown",
      "source": [
        "# Imputing Weights and bias"
      ],
      "metadata": {
        "id": "ePdPd0qM2eIb"
      }
    },
    {
      "cell_type": "code",
      "source": [
        "new_weights = [np.array([[ 0.1,0.1],\n",
        " [0.1,0.1]]),np.array([0.,0.]),np.array([[0.1],[0.1]]),np.array([0.])]"
      ],
      "metadata": {
        "id": "gaAK8oWxzKtp"
      },
      "execution_count": null,
      "outputs": []
    },
    {
      "cell_type": "code",
      "source": [
        "model.set_weights(new_weights)  ##we are using keras's set weights to set the weights to the one that we put in the previos line of the code"
      ],
      "metadata": {
        "id": "otcQxyknzg0d"
      },
      "execution_count": null,
      "outputs": []
    },
    {
      "cell_type": "code",
      "source": [
        "model.get_weights()     #now we get the wieghts again"
      ],
      "metadata": {
        "id": "Riso1G93zuci"
      },
      "execution_count": null,
      "outputs": []
    },
    {
      "cell_type": "markdown",
      "source": [
        "we get the learning rate as 0.001 as previously our learning rate was 0.1"
      ],
      "metadata": {
        "id": "sPJI9Ob0z0uJ"
      }
    },
    {
      "cell_type": "markdown",
      "source": [
        "# Optimization and Compilation"
      ],
      "metadata": {
        "id": "xt35TX4p2ksH"
      }
    },
    {
      "cell_type": "code",
      "source": [
        "optimizer=keras.optimizers.Adam(learning_rate=0.001)\n",
        "model.compile(loss=\"binary_crossentropy\",optimizer=optimizer)\n"
      ],
      "metadata": {
        "id": "Tbmit7c6z0Dj"
      },
      "execution_count": null,
      "outputs": []
    },
    {
      "cell_type": "markdown",
      "source": [
        "we going to go throught the dataset 75 times"
      ],
      "metadata": {
        "id": "Eoc2wlHc0YWo"
      }
    },
    {
      "cell_type": "code",
      "source": [
        "model.fit(df.iloc[:,0:-1].values,df['placed'].values,epochs=50,verbose=1,batch_size=1)"
      ],
      "metadata": {
        "id": "ly74B2Af0UO0"
      },
      "execution_count": null,
      "outputs": []
    },
    {
      "cell_type": "markdown",
      "source": [
        "Keras cannot converge the data properly\n",
        "\n",
        "But we are getting the same LOSS FUNCTION"
      ],
      "metadata": {
        "id": "LDWOg0aV1M6O"
      }
    }
  ]
}