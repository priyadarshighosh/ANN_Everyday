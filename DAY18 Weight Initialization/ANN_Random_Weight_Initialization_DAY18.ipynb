{
  "nbformat": 4,
  "nbformat_minor": 0,
  "metadata": {
    "colab": {
      "private_outputs": true,
      "provenance": []
    },
    "kernelspec": {
      "name": "python3",
      "display_name": "Python 3"
    },
    "language_info": {
      "name": "python"
    }
  },
  "cells": [
    {
      "cell_type": "markdown",
      "source": [
        "# How Not to Initializa Weights\n",
        "\n",
        "# CASE 3 - Making the weights  Randomly\n",
        "\n",
        "---"
      ],
      "metadata": {
        "id": "u93QB4H8gs0F"
      }
    },
    {
      "cell_type": "markdown",
      "source": [
        "Importing Python libraries"
      ],
      "metadata": {
        "id": "vrEzW6nDrROu"
      }
    },
    {
      "cell_type": "code",
      "execution_count": null,
      "metadata": {
        "id": "JF9RMWnFZYq3"
      },
      "outputs": [],
      "source": [
        "import numpy as np\n",
        "import pandas as pd\n",
        "import matplotlib.pyplot as plt\n",
        "import seaborn as sns\n"
      ]
    },
    {
      "cell_type": "markdown",
      "source": [
        "IMPORTING MACHINE LEARNING LIBRARIES AND CLASSES"
      ],
      "metadata": {
        "id": "eQYW8ynycqpU"
      }
    },
    {
      "cell_type": "code",
      "source": [
        "from sklearn.model_selection import train_test_split               #for splitting the data into test and training data\n",
        "from sklearn.compose import ColumnTransformer                       #for transforming the columns\n",
        "from sklearn.impute import SimpleImputer                             #for imputing the missing values\n",
        "from sklearn.preprocessing import OneHotEncoder                      #one hot encoding\n",
        "from sklearn.preprocessing import MinMaxScaler                        #standard scaling\n",
        "\n",
        "\n",
        "from sklearn.datasets import make_moons\n",
        "from mlxtend.plotting import plot_decision_regions                   #for decision boundary\n",
        "\n",
        "\n",
        "from sklearn.metrics import accuracy_score                 # for accuracy score\n",
        "from sklearn.model_selection import cross_val_score        # for cross validation score"
      ],
      "metadata": {
        "id": "5H7sUowSa3_I"
      },
      "execution_count": null,
      "outputs": []
    },
    {
      "cell_type": "markdown",
      "source": [
        "Importing Deep learning Libraries"
      ],
      "metadata": {
        "id": "m0W9L8dyrAbl"
      }
    },
    {
      "cell_type": "code",
      "source": [
        "\n",
        "import tensorflow as tf                                                   #deep learning library\n",
        "\n",
        "from tensorflow import keras                                              # keras integrated with tf\n",
        "\n",
        "from tensorflow.keras import Sequential                                   #sequential model - arranging the Keras layers in a sequential order\n",
        "\n",
        "from tensorflow.keras.layers import Dense, Flatten                       # used to process information and simplify arrays in convolutional neural networks\n",
        "\n",
        "from tensorflow.keras.layers import Dropout                              #used to prevent overfitting\n",
        "from tensorflow.keras.callbacks import EarlyStopping\n",
        "from tensorflow.keras.optimizers import Adam                             #Optimizer\n"
      ],
      "metadata": {
        "id": "MJdstiajrA7m"
      },
      "execution_count": null,
      "outputs": []
    },
    {
      "cell_type": "markdown",
      "source": [
        "We are making our own dataset"
      ],
      "metadata": {
        "id": "1BHUDrzIY0y9"
      }
    },
    {
      "cell_type": "code",
      "source": [
        "X , y =make_moons(n_samples=200, noise=0.20, random_state=42)"
      ],
      "metadata": {
        "id": "nZMsdGPkY0Pt"
      },
      "execution_count": null,
      "outputs": []
    },
    {
      "cell_type": "code",
      "source": [
        "plt.scatter(X[:,0],X[:,1], c=y)\n",
        "plt.show()"
      ],
      "metadata": {
        "id": "DxsVDNyVdAMG"
      },
      "execution_count": null,
      "outputs": []
    },
    {
      "cell_type": "markdown",
      "source": [
        "# Neural Network Architechture Tanh activation function"
      ],
      "metadata": {
        "id": "8UCX5EW7cJ6j"
      }
    },
    {
      "cell_type": "code",
      "source": [
        "model2 = Sequential()\n",
        "\n",
        "model2.add(Dense(2, activation='tanh',input_dim=2))\n",
        "model2.add(Dense(2, activation='tanh'))\n",
        "model2.add(Dense(2, activation='tanh'))\n",
        "model2.add(Dense(2, activation='tanh'))\n",
        "model2.add(Dense(1, activation='sigmoid'))"
      ],
      "metadata": {
        "id": "P1v8vwcPcJ6j"
      },
      "execution_count": null,
      "outputs": []
    },
    {
      "cell_type": "code",
      "source": [
        "\n",
        "model2.summary()"
      ],
      "metadata": {
        "id": "cWammWLNcJ6j"
      },
      "execution_count": null,
      "outputs": []
    },
    {
      "cell_type": "markdown",
      "source": [
        "Getting the default Weights"
      ],
      "metadata": {
        "id": "RcwIMWNRcJ6j"
      }
    },
    {
      "cell_type": "code",
      "source": [
        "model2.get_weights()"
      ],
      "metadata": {
        "id": "niL0v6AVcJ6k"
      },
      "execution_count": null,
      "outputs": []
    },
    {
      "cell_type": "markdown",
      "source": [
        "# Changing the Weights to Randomly"
      ],
      "metadata": {
        "id": "RrgKdIgYrp9K"
      }
    },
    {
      "cell_type": "code",
      "source": [
        "initial_weights  =model2.get_weights()"
      ],
      "metadata": {
        "id": "LMd9gS46rp9Y"
      },
      "execution_count": null,
      "outputs": []
    },
    {
      "cell_type": "code",
      "source": [
        "initial_weights[0] =np.random.rand(initial_weights[0].shape[0],initial_weights[0].shape[1])*0.01\n",
        "initial_weights[1] =np.zeros(model2.get_weights()[1].shape)\n",
        "initial_weights[2] =np.random.rand(initial_weights[2].shape[0],initial_weights[2].shape[1])*0.01\n",
        "initial_weights[3] =np.zeros(model2.get_weights()[3].shape)\n",
        "initial_weights[4] =np.random.rand(initial_weights[4].shape[0],initial_weights[4].shape[1])*0.01\n",
        "initial_weights[5] =np.zeros(model2.get_weights()[5].shape)\n",
        "initial_weights[6] =np.random.rand(initial_weights[6].shape[0],initial_weights[6].shape[1])*0.01\n",
        "initial_weights[7] =np.zeros(model2.get_weights()[7].shape)\n",
        "initial_weights[8] =np.random.rand(initial_weights[8].shape[0],initial_weights[8].shape[1])*0.01\n",
        "initial_weights[9] =np.zeros(model2.get_weights()[9].shape)"
      ],
      "metadata": {
        "id": "jgHejdWorp9Z"
      },
      "execution_count": null,
      "outputs": []
    },
    {
      "cell_type": "markdown",
      "source": [
        "Setting the new model weights as Initial Weights"
      ],
      "metadata": {
        "id": "dkW6VrRFrp9Z"
      }
    },
    {
      "cell_type": "code",
      "source": [
        "model2.set_weights(initial_weights)"
      ],
      "metadata": {
        "id": "tHioDVGFrp9Z"
      },
      "execution_count": null,
      "outputs": []
    },
    {
      "cell_type": "markdown",
      "source": [
        "Getting the NEW weights"
      ],
      "metadata": {
        "id": "LKs4ol8Jrp9a"
      }
    },
    {
      "cell_type": "code",
      "source": [
        "model2.get_weights()"
      ],
      "metadata": {
        "id": "oIqUeHs5rp9a"
      },
      "execution_count": null,
      "outputs": []
    },
    {
      "cell_type": "markdown",
      "source": [
        "Above all the weights set randomly"
      ],
      "metadata": {
        "id": "7PHDXUQSrp9a"
      }
    },
    {
      "cell_type": "markdown",
      "source": [
        "# Training The Model"
      ],
      "metadata": {
        "id": "n2gwHbITcyBE"
      }
    },
    {
      "cell_type": "markdown",
      "source": [
        "Compilation of the model"
      ],
      "metadata": {
        "id": "AqcPXBRPcyBO"
      }
    },
    {
      "cell_type": "code",
      "source": [
        "adam=Adam(learning_rate=0.01)\n",
        "model2.compile(optimizer=adam, loss='binary_crossentropy', metrics=['accuracy'])"
      ],
      "metadata": {
        "id": "WqZk8Ol9cyBO"
      },
      "execution_count": null,
      "outputs": []
    },
    {
      "cell_type": "markdown",
      "source": [
        "Fitting the model and getting the details"
      ],
      "metadata": {
        "id": "sFF0Y_J6cyBO"
      }
    },
    {
      "cell_type": "code",
      "source": [
        "history2=model2.fit(X,y, epochs=100,validation_split=0.2 ,verbose=1)"
      ],
      "metadata": {
        "id": "oXcKNRlgcyBO"
      },
      "execution_count": null,
      "outputs": []
    },
    {
      "cell_type": "markdown",
      "source": [
        "We are finding the model weight after training it"
      ],
      "metadata": {
        "id": "xaIe_eHlcyBO"
      }
    },
    {
      "cell_type": "code",
      "source": [
        "model2.get_weights()"
      ],
      "metadata": {
        "id": "hRlbw9OscyBO"
      },
      "execution_count": null,
      "outputs": []
    },
    {
      "cell_type": "markdown",
      "source": [
        "# Getting the Graph !!"
      ],
      "metadata": {
        "id": "pIf4RZoHc8_D"
      }
    },
    {
      "cell_type": "code",
      "source": [
        "plot_decision_regions(X, y.astype('int'),clf=model2, legend=2)\n",
        "plt.xlim(-2,3)\n",
        "plt.ylim(-2,3)\n",
        "plt.show()"
      ],
      "metadata": {
        "id": "pWdZ4MOMc8_Q"
      },
      "execution_count": null,
      "outputs": []
    },
    {
      "cell_type": "markdown",
      "source": [
        "Accuracy and Prediction"
      ],
      "metadata": {
        "id": "hdAcNRlPc8_Q"
      }
    },
    {
      "cell_type": "code",
      "source": [
        "plt.plot(history2.history['accuracy'])\n",
        "plt.plot(history2.history['val_accuracy'])\n",
        "\n",
        "plt.legend(['train', 'test'], loc='upper right')\n",
        "\n",
        "\n",
        "plt.title('Model accuracy')\n",
        "plt.ylabel('Accuracy')\n",
        "plt.xlabel('Epoch')\n",
        "plt.show()"
      ],
      "metadata": {
        "id": "3qzeXimtc8_R"
      },
      "execution_count": null,
      "outputs": []
    },
    {
      "cell_type": "code",
      "source": [
        "plt.plot(history2.history['loss'])\n",
        "plt.plot(history2.history['val_loss'])\n",
        "\n",
        "plt.legend(['train', 'test'], loc='upper right')\n",
        "\n",
        "\n",
        "plt.title('Model loss')\n",
        "plt.ylabel('Loss')\n",
        "plt.xlabel('Epoch')\n",
        "plt.show()"
      ],
      "metadata": {
        "id": "Ul4hnuiuc8_R"
      },
      "execution_count": null,
      "outputs": []
    },
    {
      "cell_type": "markdown",
      "source": [
        "Tanh function didnot work at all , the model is broken\n",
        "\n",
        "Showing 50 perc accuracy -- VANISHING GRADIENT PROBLEM HAS OCCUREC"
      ],
      "metadata": {
        "id": "1_hQwB4Hc8_R"
      }
    },
    {
      "cell_type": "markdown",
      "source": [
        "# Neural Network Architechture Sigmoid activation function"
      ],
      "metadata": {
        "id": "1dZq9gKPlcbN"
      }
    },
    {
      "cell_type": "code",
      "source": [
        "model3 = Sequential()\n",
        "\n",
        "model3.add(Dense(2, activation='sigmoid',input_dim=2))\n",
        "model3.add(Dense(2, activation='sigmoid'))\n",
        "model3.add(Dense(2, activation='sigmoid'))\n",
        "model3.add(Dense(2, activation='sigmoid'))\n",
        "model3.add(Dense(2, activation='sigmoid'))\n",
        "model3.add(Dense(1, activation='sigmoid'))"
      ],
      "metadata": {
        "id": "-dmdB6CZlcbU"
      },
      "execution_count": null,
      "outputs": []
    },
    {
      "cell_type": "code",
      "source": [
        "\n",
        "model3.summary()"
      ],
      "metadata": {
        "id": "wmZujnB_lcbU"
      },
      "execution_count": null,
      "outputs": []
    },
    {
      "cell_type": "markdown",
      "source": [
        "Getting the default Weights"
      ],
      "metadata": {
        "id": "bbo8ALRzlcbV"
      }
    },
    {
      "cell_type": "code",
      "source": [
        "model3.get_weights()"
      ],
      "metadata": {
        "id": "O7LrUBT9lcbV"
      },
      "execution_count": null,
      "outputs": []
    },
    {
      "cell_type": "markdown",
      "source": [
        "# Changing the Weights to Randomly"
      ],
      "metadata": {
        "id": "Vl7PwjTOlg8k"
      }
    },
    {
      "cell_type": "code",
      "source": [
        "initial_weights  =model3.get_weights()"
      ],
      "metadata": {
        "id": "tfG34jcGlg8s"
      },
      "execution_count": null,
      "outputs": []
    },
    {
      "cell_type": "code",
      "source": [
        "initial_weights[0] =np.random.rand(initial_weights[0].shape[0],initial_weights[0].shape[1])*0.01\n",
        "initial_weights[1] =np.zeros(model3.get_weights()[1].shape)\n",
        "initial_weights[2] =np.random.rand(initial_weights[2].shape[0],initial_weights[2].shape[1])*0.01\n",
        "initial_weights[3] =np.zeros(model3.get_weights()[3].shape)\n",
        "initial_weights[4] =np.random.rand(initial_weights[4].shape[0],initial_weights[4].shape[1])*0.01\n",
        "initial_weights[5] =np.zeros(model3.get_weights()[5].shape)\n",
        "initial_weights[6] =np.random.rand(initial_weights[6].shape[0],initial_weights[6].shape[1])*0.01\n",
        "initial_weights[7] =np.zeros(model3.get_weights()[7].shape)\n",
        "initial_weights[8] =np.random.rand(initial_weights[8].shape[0],initial_weights[8].shape[1])*0.01\n",
        "initial_weights[9] =np.zeros(model3.get_weights()[9].shape)"
      ],
      "metadata": {
        "id": "6PnjiYIMlg8s"
      },
      "execution_count": null,
      "outputs": []
    },
    {
      "cell_type": "markdown",
      "source": [
        "Setting the new model weights as Initial Weights"
      ],
      "metadata": {
        "id": "VtMCTX7blg8s"
      }
    },
    {
      "cell_type": "code",
      "source": [
        "model3.set_weights(initial_weights)"
      ],
      "metadata": {
        "id": "9kZqjBxDlg8s"
      },
      "execution_count": null,
      "outputs": []
    },
    {
      "cell_type": "markdown",
      "source": [
        "Getting the NEW weights"
      ],
      "metadata": {
        "id": "kD_t72nTlg8s"
      }
    },
    {
      "cell_type": "code",
      "source": [
        "model3.get_weights()"
      ],
      "metadata": {
        "id": "9Y-vC9ZYlg8s"
      },
      "execution_count": null,
      "outputs": []
    },
    {
      "cell_type": "markdown",
      "source": [
        "Above all the weights set to Non-Zero COnstant"
      ],
      "metadata": {
        "id": "kGe17RKplg8s"
      }
    },
    {
      "cell_type": "markdown",
      "source": [
        "# Training The Model"
      ],
      "metadata": {
        "id": "0vMBOlz9lllQ"
      }
    },
    {
      "cell_type": "markdown",
      "source": [
        "Compilation of the model"
      ],
      "metadata": {
        "id": "dScFoRgWllld"
      }
    },
    {
      "cell_type": "code",
      "source": [
        "adam=Adam(learning_rate=0.01)\n",
        "model3.compile(optimizer=adam, loss='binary_crossentropy', metrics=['accuracy'])"
      ],
      "metadata": {
        "id": "DlQXZArhllld"
      },
      "execution_count": null,
      "outputs": []
    },
    {
      "cell_type": "markdown",
      "source": [
        "Fitting the model and getting the details"
      ],
      "metadata": {
        "id": "56RVp7_vllle"
      }
    },
    {
      "cell_type": "code",
      "source": [
        "history3=model3.fit(X,y, epochs=100,validation_split=0.2 ,verbose=1)"
      ],
      "metadata": {
        "id": "aPzX5KIgllle"
      },
      "execution_count": null,
      "outputs": []
    },
    {
      "cell_type": "markdown",
      "source": [
        "We are finding the model weight after training it"
      ],
      "metadata": {
        "id": "pfkhnNNCllle"
      }
    },
    {
      "cell_type": "code",
      "source": [
        "model3.get_weights()"
      ],
      "metadata": {
        "id": "ZBqFCPinllle"
      },
      "execution_count": null,
      "outputs": []
    },
    {
      "cell_type": "markdown",
      "source": [
        "# Getting the Graph !!"
      ],
      "metadata": {
        "id": "oGXeyhfJlpWK"
      }
    },
    {
      "cell_type": "code",
      "source": [
        "plot_decision_regions(X, y.astype('int'),clf=model3, legend=2)\n",
        "plt.xlim(-2,3)\n",
        "plt.ylim(-2,3)\n",
        "plt.show()"
      ],
      "metadata": {
        "id": "PbEGagZnlpWW"
      },
      "execution_count": null,
      "outputs": []
    },
    {
      "cell_type": "markdown",
      "source": [
        "Accuracy and Prediction"
      ],
      "metadata": {
        "id": "iO2vELP7lpWW"
      }
    },
    {
      "cell_type": "code",
      "source": [
        "plt.plot(history3.history['accuracy'])\n",
        "plt.plot(history3.history['val_accuracy'])\n",
        "\n",
        "plt.legend(['train', 'test'], loc='upper right')\n",
        "\n",
        "\n",
        "plt.title('Model accuracy')\n",
        "plt.ylabel('Accuracy')\n",
        "plt.xlabel('Epoch')\n",
        "plt.show()"
      ],
      "metadata": {
        "id": "Mla-Jt18lpWW"
      },
      "execution_count": null,
      "outputs": []
    },
    {
      "cell_type": "code",
      "source": [
        "plt.plot(history3.history['loss'])\n",
        "plt.plot(history3.history['val_loss'])\n",
        "\n",
        "plt.legend(['train', 'test'], loc='upper right')\n",
        "\n",
        "\n",
        "plt.title('Model loss')\n",
        "plt.ylabel('Loss')\n",
        "plt.xlabel('Epoch')\n",
        "plt.show()"
      ],
      "metadata": {
        "id": "pPc4j_AilpWW"
      },
      "execution_count": null,
      "outputs": []
    },
    {
      "cell_type": "markdown",
      "source": [
        "Sigmoid and Tanh -- cannot work with very small Random Value\n",
        "\n",
        "THEY WILL JUST SHOW 50 PERC\n",
        "\n",
        "VANISHING GRADIENT PROBLEM HAS OCCURED"
      ],
      "metadata": {
        "id": "PK58vteilpWX"
      }
    }
  ]
}