{
  "nbformat": 4,
  "nbformat_minor": 0,
  "metadata": {
    "colab": {
      "private_outputs": true,
      "provenance": [],
      "toc_visible": true,
      "authorship_tag": "ABX9TyO+kVjx3KEwCI8y01qUemJK",
      "include_colab_link": true
    },
    "kernelspec": {
      "name": "python3",
      "display_name": "Python 3"
    },
    "language_info": {
      "name": "python"
    }
  },
  "cells": [
    {
      "cell_type": "markdown",
      "metadata": {
        "id": "view-in-github",
        "colab_type": "text"
      },
      "source": [
        "<a href=\"https://colab.research.google.com/github/priyadarshighosh/ANN_Everyday/blob/main/DAY11/ANN_MINI_BATCH_DAY11.ipynb\" target=\"_parent\"><img src=\"https://colab.research.google.com/assets/colab-badge.svg\" alt=\"Open In Colab\"/></a>"
      ]
    },
    {
      "cell_type": "markdown",
      "source": [
        "# MINI BATCH GRADIENT DESCENT\n",
        "\n",
        "# Implementation"
      ],
      "metadata": {
        "id": "buV9E0bf-37g"
      }
    },
    {
      "cell_type": "markdown",
      "source": [
        "IMPORTING THE DATA SCIENCE LIBRARIES"
      ],
      "metadata": {
        "id": "HNvHInaq_BMJ"
      }
    },
    {
      "cell_type": "code",
      "execution_count": null,
      "metadata": {
        "id": "eum2WGOnBeeL"
      },
      "outputs": [],
      "source": [
        "\n",
        "import numpy as np\n",
        "import pandas as pd\n",
        "import seaborn as sns\n",
        "import matplotlib.pyplot as plt\n",
        "\n",
        "import time"
      ]
    },
    {
      "cell_type": "markdown",
      "source": [
        "Importing the ML / Scikit learn EVERYTHING"
      ],
      "metadata": {
        "id": "egI1aKHM_G4g"
      }
    },
    {
      "cell_type": "code",
      "source": [
        "\n",
        "from sklearn.model_selection import train_test_split               #for splitting the data into test and training data\n",
        "from sklearn.compose import ColumnTransformer                       #for transforming the columns\n",
        "from sklearn.impute import SimpleImputer                             #for imputing the missing values\n",
        "from sklearn.preprocessing import OneHotEncoder                      #one hot encoding\n",
        "from sklearn.preprocessing import MinMaxScaler                        #standard scaling\n",
        "from sklearn.pipeline import Pipeline,make_pipeline                    #here we wont use pipelines\n",
        "from sklearn.feature_selection import SelectKBest,chi2                 #feature selection                     #standard scaling\n",
        "from sklearn.tree import DecisionTreeClassifier"
      ],
      "metadata": {
        "id": "v-A2uAybzaKX"
      },
      "execution_count": null,
      "outputs": []
    },
    {
      "cell_type": "markdown",
      "source": [
        "# Dataset Preprocessing and CLEANING"
      ],
      "metadata": {
        "id": "ADdQQGes_Sdp"
      }
    },
    {
      "cell_type": "code",
      "source": [
        "\n",
        "from google.colab import files    # we are importing the file from the device\n",
        "uploaded = files.upload()"
      ],
      "metadata": {
        "id": "GynCwG0YCHzg"
      },
      "execution_count": null,
      "outputs": []
    },
    {
      "cell_type": "code",
      "source": [
        "df = pd.read_csv('Social_Network_Ads.csv')\n",
        "df.head()"
      ],
      "metadata": {
        "id": "5btQS0GnzulN"
      },
      "execution_count": null,
      "outputs": []
    },
    {
      "cell_type": "code",
      "source": [
        "df.shape   #checking the shape of the data"
      ],
      "metadata": {
        "id": "uYYUMmaXDB6L"
      },
      "execution_count": null,
      "outputs": []
    },
    {
      "cell_type": "code",
      "source": [
        "df.info()  #checking the info of the data"
      ],
      "metadata": {
        "id": "CTeAHSkCDMTk"
      },
      "execution_count": null,
      "outputs": []
    },
    {
      "cell_type": "code",
      "source": [
        "df.describe()  #checking the statistical description of the data"
      ],
      "metadata": {
        "id": "1Ik4DxWTDONQ"
      },
      "execution_count": null,
      "outputs": []
    },
    {
      "cell_type": "code",
      "source": [
        "df = df[['Age','EstimatedSalary','Purchased']]\n",
        "df.head()"
      ],
      "metadata": {
        "id": "jtbiihl68bfG"
      },
      "execution_count": null,
      "outputs": []
    },
    {
      "cell_type": "code",
      "source": [
        "X = df.drop(columns=['Purchased'])\n",
        "y = df['Purchased']"
      ],
      "metadata": {
        "id": "HBzF5maf0D6B"
      },
      "execution_count": null,
      "outputs": []
    },
    {
      "cell_type": "code",
      "source": [
        "X"
      ],
      "metadata": {
        "id": "Ra4dvdOP0K3k"
      },
      "execution_count": null,
      "outputs": []
    },
    {
      "cell_type": "code",
      "source": [
        "y"
      ],
      "metadata": {
        "id": "8KEzjeWN0LpX"
      },
      "execution_count": null,
      "outputs": []
    },
    {
      "cell_type": "markdown",
      "source": [
        "# Scaling ( STANDARD SCALING )"
      ],
      "metadata": {
        "id": "b6emVYzL_hrX"
      }
    },
    {
      "cell_type": "code",
      "source": [
        "from sklearn.preprocessing import StandardScaler\n",
        "scaler = StandardScaler()\n",
        "\n",
        "X_scaled = scaler.fit_transform(X)"
      ],
      "metadata": {
        "id": "o0bDrSmD0_5T"
      },
      "execution_count": null,
      "outputs": []
    },
    {
      "cell_type": "markdown",
      "source": [
        "# TRAIN  / TEST SPLIT"
      ],
      "metadata": {
        "id": "ErFOYn0X_iFu"
      }
    },
    {
      "cell_type": "code",
      "source": [
        "from sklearn.model_selection import train_test_split\n",
        "X_train,X_test,y_train,y_test = train_test_split(X,y,test_size=0.2,random_state=1)"
      ],
      "metadata": {
        "id": "LQ8WlW0P0dHI"
      },
      "execution_count": null,
      "outputs": []
    },
    {
      "cell_type": "code",
      "source": [
        "X_train"
      ],
      "metadata": {
        "id": "zKNetxLS0e5L"
      },
      "execution_count": null,
      "outputs": []
    },
    {
      "cell_type": "code",
      "source": [
        "y_train"
      ],
      "metadata": {
        "id": "4fxgFS2J0khy"
      },
      "execution_count": null,
      "outputs": []
    },
    {
      "cell_type": "code",
      "source": [
        "X_test"
      ],
      "metadata": {
        "id": "Mg5pIHMM0o3i"
      },
      "execution_count": null,
      "outputs": []
    },
    {
      "cell_type": "code",
      "source": [
        "y_test"
      ],
      "metadata": {
        "id": "J2AaaSxI0r3h"
      },
      "execution_count": null,
      "outputs": []
    },
    {
      "cell_type": "code",
      "source": [
        "X_train.shape"
      ],
      "metadata": {
        "id": "dDO23e1k6eEr"
      },
      "execution_count": null,
      "outputs": []
    },
    {
      "cell_type": "markdown",
      "source": [
        "# IMPORTING TENSORFLOW AND KERAS"
      ],
      "metadata": {
        "id": "vQpzeVa3_iZk"
      }
    },
    {
      "cell_type": "markdown",
      "source": [],
      "metadata": {
        "id": "XdDZXX0JAG2r"
      }
    },
    {
      "cell_type": "code",
      "source": [
        "import tensorflow as tf\n",
        "from tensorflow import keras\n",
        "from tensorflow.keras import Sequential\n",
        "from tensorflow.keras.layers import Dense"
      ],
      "metadata": {
        "id": "P8kadipN4yQY"
      },
      "execution_count": null,
      "outputs": []
    },
    {
      "cell_type": "markdown",
      "source": [
        "# Architechture of the Neural Netork"
      ],
      "metadata": {
        "id": "NLx34-NZAKS4"
      }
    },
    {
      "cell_type": "markdown",
      "source": [
        "Activation function is Sigmoid as we are classifying into purchased and not purchased"
      ],
      "metadata": {
        "id": "1HoVzn325e68"
      }
    },
    {
      "cell_type": "markdown",
      "source": [
        "# MINI -BATCH GRADIENT DESCENT\n",
        "\n",
        "# BATCH SIZE = 32 ROWS"
      ],
      "metadata": {
        "id": "ExF5bh7dAX8P"
      }
    },
    {
      "cell_type": "code",
      "source": [
        "model = Sequential()\n",
        "\n",
        "model.add(Dense(10,activation='relu',input_dim=2))\n",
        "model.add(Dense(10,activation='relu'))\n",
        "model.add(Dense(1,activation='sigmoid'))"
      ],
      "metadata": {
        "id": "Za94CG-k9T34"
      },
      "execution_count": null,
      "outputs": []
    },
    {
      "cell_type": "markdown",
      "source": [
        "WE have taken 2 inouts Age and Estimated_salary\n",
        "\n",
        "\n",
        "We have 2 hidden layers of 10 nuerons each with activation function ' relu ' as it works the best\n",
        "\n",
        "IN the output layer- WE have 1 neuron with activation function sigmoid because it is best for classfication\n",
        "\n"
      ],
      "metadata": {
        "id": "7KTL03vP33S2"
      }
    },
    {
      "cell_type": "code",
      "source": [
        "model.summary()"
      ],
      "metadata": {
        "id": "Pxbb7KDa4TUB"
      },
      "execution_count": null,
      "outputs": []
    },
    {
      "cell_type": "markdown",
      "source": [
        "We use binary_crossentropy as we are classifying purchased into yes or no\n",
        "\n",
        "2 classes"
      ],
      "metadata": {
        "id": "z8BLtZlb5HO-"
      }
    },
    {
      "cell_type": "markdown",
      "source": [
        "BATCH SIZE IS 32 MEANS 32 ROWS\n",
        "\n",
        "UPDATION GONNA HAPPEN AFTER EVERY 32 ROWS THAT IS 10 TIMES  PER EPOCH IN TOTAL AS TOTAL NO OF ROWS IS 320"
      ],
      "metadata": {
        "id": "_YWs3SrpB_Ft"
      }
    },
    {
      "cell_type": "code",
      "source": [
        "model.compile(loss='binary_crossentropy',metrics=['accuracy'])  #compiling the model\n",
        "start = time.time()\n",
        "history = model.fit(X_train,y_train,epochs=10 , batch_size=32)\n",
        "print(time.time() - start)"
      ],
      "metadata": {
        "id": "GwVATKuS5BI4"
      },
      "execution_count": null,
      "outputs": []
    },
    {
      "cell_type": "markdown",
      "source": [
        "# Mini-BATCH GRADIENT DESCENT\n",
        "\n",
        "#BATCH SIZE = 10 ROWS"
      ],
      "metadata": {
        "id": "_8jTJzEVBa9N"
      }
    },
    {
      "cell_type": "code",
      "source": [
        "model1 = Sequential()\n",
        "\n",
        "model1.add(Dense(10,activation='relu',input_dim=2))\n",
        "model1.add(Dense(10,activation='relu'))\n",
        "model1.add(Dense(1,activation='sigmoid'))"
      ],
      "metadata": {
        "id": "UQyCjFDJBS45"
      },
      "execution_count": null,
      "outputs": []
    },
    {
      "cell_type": "code",
      "source": [
        "model1.summary()"
      ],
      "metadata": {
        "id": "yU4vt8FABUSt"
      },
      "execution_count": null,
      "outputs": []
    },
    {
      "cell_type": "markdown",
      "source": [
        "BATCH SIZE IS 10 MEANS 10 ROWS\n",
        "\n",
        "UPDATION GONNA HAPPEN AFTER EVERY 10 ROWS THAT IS 32 TIMES\n",
        " PER EPOCH IN TOTAL AS TOTAL NO OF ROWS IS 320"
      ],
      "metadata": {
        "id": "2tVjIiDKCLCr"
      }
    },
    {
      "cell_type": "code",
      "source": [
        "model1.compile(loss='binary_crossentropy',metrics=['accuracy'])  #compiling the model\n",
        "start = time.time()\n",
        "history = model1.fit(X_train,y_train,epochs=10 , batch_size=10)\n",
        "print(time.time() - start)"
      ],
      "metadata": {
        "id": "ufympsY0BVm_"
      },
      "execution_count": null,
      "outputs": []
    },
    {
      "cell_type": "markdown",
      "source": [
        "MINI BATCH IS THE PERFECT COMBINAITON BETWEEN THE BATCH GRADIENT DESCENT AND STOCHASTIC GRADIENT DESCENT\n",
        "\n"
      ],
      "metadata": {
        "id": "9JRkr73LG-Ra"
      }
    },
    {
      "cell_type": "markdown",
      "source": [
        "MINI BATCH # BATCH SIZE = 32\n",
        "ACC = 61.7                TIME = 1.7\n",
        "\n",
        "MINI BATCH # BATCH SIZE = 10\n",
        "ACC = 58.2               TIME =2.45"
      ],
      "metadata": {
        "id": "uj-dBEVcH5Xk"
      }
    }
  ]
}