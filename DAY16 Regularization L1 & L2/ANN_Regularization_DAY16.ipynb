{
  "nbformat": 4,
  "nbformat_minor": 0,
  "metadata": {
    "colab": {
      "private_outputs": true,
      "provenance": []
    },
    "kernelspec": {
      "name": "python3",
      "display_name": "Python 3"
    },
    "language_info": {
      "name": "python"
    }
  },
  "cells": [
    {
      "cell_type": "markdown",
      "source": [
        "# Regularization L1 & L2"
      ],
      "metadata": {
        "id": "u93QB4H8gs0F"
      }
    },
    {
      "cell_type": "markdown",
      "source": [
        "Importing Python libraries"
      ],
      "metadata": {
        "id": "vrEzW6nDrROu"
      }
    },
    {
      "cell_type": "code",
      "execution_count": null,
      "metadata": {
        "id": "JF9RMWnFZYq3"
      },
      "outputs": [],
      "source": [
        "import numpy as np\n",
        "import pandas as pd\n",
        "import matplotlib.pyplot as plt\n",
        "import seaborn as sns\n"
      ]
    },
    {
      "cell_type": "markdown",
      "source": [
        "IMPORTING MACHINE LEARNING LIBRARIES AND CLASSES"
      ],
      "metadata": {
        "id": "eQYW8ynycqpU"
      }
    },
    {
      "cell_type": "code",
      "source": [
        "from sklearn.model_selection import train_test_split               #for splitting the data into test and training data\n",
        "from sklearn.compose import ColumnTransformer                       #for transforming the columns\n",
        "from sklearn.impute import SimpleImputer                             #for imputing the missing values\n",
        "from sklearn.preprocessing import OneHotEncoder                      #one hot encoding\n",
        "from sklearn.preprocessing import MinMaxScaler                        #standard scaling\n",
        "\n",
        "\n",
        "from sklearn.datasets import make_moons\n",
        "from mlxtend.plotting import plot_decision_regions                   #for decision boundary\n",
        "\n",
        "\n",
        "from sklearn.metrics import accuracy_score                 # for accuracy score\n",
        "from sklearn.model_selection import cross_val_score        # for cross validation score"
      ],
      "metadata": {
        "id": "5H7sUowSa3_I"
      },
      "execution_count": null,
      "outputs": []
    },
    {
      "cell_type": "markdown",
      "source": [
        "Importing Deep learning Libraries"
      ],
      "metadata": {
        "id": "m0W9L8dyrAbl"
      }
    },
    {
      "cell_type": "code",
      "source": [
        "\n",
        "import tensorflow as tf                                                   #deep learning library\n",
        "\n",
        "from tensorflow import keras                                              # keras integrated with tf\n",
        "\n",
        "from tensorflow.keras import Sequential                                   #sequential model - arranging the Keras layers in a sequential order\n",
        "\n",
        "from tensorflow.keras.layers import Dense, Flatten                       # used to process information and simplify arrays in convolutional neural networks\n",
        "\n",
        "from tensorflow.keras.layers import Dropout                              #used to prevent overfitting\n",
        "from tensorflow.keras.callbacks import EarlyStopping\n",
        "from tensorflow.keras.optimizers import Adam                             #Optimizer\n",
        "\n",
        "from tensorflow.keras.regularizers import l2"
      ],
      "metadata": {
        "id": "MJdstiajrA7m"
      },
      "execution_count": null,
      "outputs": []
    },
    {
      "cell_type": "markdown",
      "source": [
        "We are making our own dataset"
      ],
      "metadata": {
        "id": "1BHUDrzIY0y9"
      }
    },
    {
      "cell_type": "code",
      "source": [
        "X , y =make_moons(n_samples=100, noise=0.25, random_state=2)"
      ],
      "metadata": {
        "id": "nZMsdGPkY0Pt"
      },
      "execution_count": null,
      "outputs": []
    },
    {
      "cell_type": "code",
      "source": [
        "plt.scatter(X[:,0],X[:,1], c=y)\n",
        "plt.show()"
      ],
      "metadata": {
        "id": "DxsVDNyVdAMG"
      },
      "execution_count": null,
      "outputs": []
    },
    {
      "cell_type": "markdown",
      "source": [
        "# Neural Network Architechture"
      ],
      "metadata": {
        "id": "mymA7FFYdiIs"
      }
    },
    {
      "cell_type": "code",
      "source": [
        "model1 = Sequential()\n",
        "\n",
        "model1.add(Dense(128, activation='relu',input_dim=2))\n",
        "model1.add(Dense(128, activation='relu'))\n",
        "model1.add(Dense(1, activation='sigmoid'))\n"
      ],
      "metadata": {
        "id": "76H-OPt_ePk2"
      },
      "execution_count": null,
      "outputs": []
    },
    {
      "cell_type": "code",
      "source": [
        "\n",
        "model1.summary()"
      ],
      "metadata": {
        "id": "6h1or_82eRfE"
      },
      "execution_count": null,
      "outputs": []
    },
    {
      "cell_type": "markdown",
      "source": [
        "Compilation of the model"
      ],
      "metadata": {
        "id": "ivR7h2aIexKr"
      }
    },
    {
      "cell_type": "code",
      "source": [
        "adam=Adam(learning_rate=0.01)\n",
        "model1.compile(optimizer=adam, loss='binary_crossentropy', metrics=['accuracy'])"
      ],
      "metadata": {
        "id": "33lj7bk3etDU"
      },
      "execution_count": null,
      "outputs": []
    },
    {
      "cell_type": "markdown",
      "source": [
        "Fitting the model and getting the details"
      ],
      "metadata": {
        "id": "pHCS9U01e1Ck"
      }
    },
    {
      "cell_type": "code",
      "source": [
        "history1=model1.fit(X,y, epochs=100,validation_split=0.2 ,verbose=1)"
      ],
      "metadata": {
        "id": "xs2Lwcdye1Zx"
      },
      "execution_count": null,
      "outputs": []
    },
    {
      "cell_type": "markdown",
      "source": [
        "# Getting the Graph !!"
      ],
      "metadata": {
        "id": "DdOhLlEnga8r"
      }
    },
    {
      "cell_type": "code",
      "source": [
        "plot_decision_regions(X, y.astype('int'),clf=model1, legend=2)\n",
        "plt.xlim(-2,3)\n",
        "plt.ylim(-2,3)\n",
        "plt.show()"
      ],
      "metadata": {
        "id": "3RUKh_PSg5H9"
      },
      "execution_count": null,
      "outputs": []
    },
    {
      "cell_type": "markdown",
      "source": [
        "Accuracy and Prediction"
      ],
      "metadata": {
        "id": "uALwFTXNhWo6"
      }
    },
    {
      "cell_type": "code",
      "source": [
        "plt.plot(history1.history['accuracy'])\n",
        "plt.plot(history1.history['val_accuracy'])\n",
        "\n",
        "plt.legend(['train', 'test'], loc='upper right')\n",
        "\n",
        "\n",
        "plt.title('Model accuracy')\n",
        "plt.ylabel('Accuracy')\n",
        "plt.xlabel('Epoch')\n",
        "plt.show()"
      ],
      "metadata": {
        "id": "fyqpCvV-haOy"
      },
      "execution_count": null,
      "outputs": []
    },
    {
      "cell_type": "code",
      "source": [
        "plt.plot(history1.history['loss'])\n",
        "plt.plot(history1.history['val_loss'])\n",
        "\n",
        "plt.legend(['train', 'test'], loc='upper right')\n",
        "\n",
        "\n",
        "plt.title('Model loss')\n",
        "plt.ylabel('Loss')\n",
        "plt.xlabel('Epoch')\n",
        "plt.show()"
      ],
      "metadata": {
        "id": "kM-9uyJ2hsIf"
      },
      "execution_count": null,
      "outputs": []
    },
    {
      "cell_type": "markdown",
      "source": [
        "# Applying Regularization"
      ],
      "metadata": {
        "id": "CgRmweUPi0nQ"
      }
    },
    {
      "cell_type": "code",
      "source": [
        "model2 = Sequential()\n",
        "\n",
        "model2.add(Dense(128,input_dim=2, activation=\"relu\",kernel_regularizer=l2(0.001)))\n",
        "model2.add(Dense(128, activation=\"relu\",kernel_regularizer=l2(0.001)))\n",
        "model2.add(Dense(1,activation='sigmoid'))\n",
        "\n",
        "model2.summary()"
      ],
      "metadata": {
        "id": "k8ZnOrbIvinp"
      },
      "execution_count": null,
      "outputs": []
    },
    {
      "cell_type": "code",
      "source": [
        "adam = Adam(learning_rate=0.01)\n",
        "model2.compile(loss='binary_crossentropy', optimizer=adam, metrics=['accuracy'])\n",
        "\n",
        "history2 = model2.fit(X, y, epochs=200, validation_split = 0.2,verbose=0)"
      ],
      "metadata": {
        "id": "lutDYo5am2cU"
      },
      "execution_count": null,
      "outputs": []
    },
    {
      "cell_type": "code",
      "source": [
        "plot_decision_regions(X, y.astype('int'), clf=model2, legend=2)\n",
        "plt.xlim(-2,3)\n",
        "plt.ylim(-1.5,2)\n",
        "plt.show()"
      ],
      "metadata": {
        "id": "yzAogVFUm4rh"
      },
      "execution_count": null,
      "outputs": []
    },
    {
      "cell_type": "code",
      "source": [
        "plt.plot(history2.history['loss'])\n",
        "plt.plot(history2.history['val_loss'])\n",
        "\n",
        "plt.legend(['train', 'test'], loc='upper right')\n",
        "\n",
        "\n",
        "plt.title('Model loss')\n",
        "plt.ylabel('Loss')\n",
        "plt.xlabel('Epoch')\n",
        "plt.show()"
      ],
      "metadata": {
        "id": "VUcYXvcAm8lE"
      },
      "execution_count": null,
      "outputs": []
    },
    {
      "cell_type": "code",
      "source": [
        "plt.plot(history2.history['accuracy'])\n",
        "plt.plot(history2.history['val_accuracy'])\n",
        "\n",
        "plt.legend(['train', 'test'], loc='upper right')\n",
        "\n",
        "\n",
        "plt.title('Model loss')\n",
        "plt.ylabel('Loss')\n",
        "plt.xlabel('Epoch')\n",
        "plt.show()"
      ],
      "metadata": {
        "id": "ME3DqX8nnFMI"
      },
      "execution_count": null,
      "outputs": []
    }
  ]
}