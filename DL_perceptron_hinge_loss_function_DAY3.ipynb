{
  "nbformat": 4,
  "nbformat_minor": 0,
  "metadata": {
    "colab": {
      "private_outputs": true,
      "provenance": [],
      "authorship_tag": "ABX9TyNRjk377mvVNDCXd6vgosQu",
      "include_colab_link": true
    },
    "kernelspec": {
      "name": "python3",
      "display_name": "Python 3"
    },
    "language_info": {
      "name": "python"
    }
  },
  "cells": [
    {
      "cell_type": "markdown",
      "metadata": {
        "id": "view-in-github",
        "colab_type": "text"
      },
      "source": [
        "<a href=\"https://colab.research.google.com/github/priyadarshighosh/Study-DL-Everyday/blob/main/DL_perceptron_hinge_loss_function_DAY3.ipynb\" target=\"_parent\"><img src=\"https://colab.research.google.com/assets/colab-badge.svg\" alt=\"Open In Colab\"/></a>"
      ]
    },
    {
      "cell_type": "code",
      "execution_count": null,
      "metadata": {
        "id": "IjlQNeVi0ssj"
      },
      "outputs": [],
      "source": [
        "import numpy as np                            #importing all the python libraries pandas numpy matplotlib\n",
        "import pandas as pd\n",
        "import matplotlib.pyplot as plt\n",
        "import seaborn as sns"
      ]
    },
    {
      "cell_type": "markdown",
      "source": [
        "Making the classication set with 2 features\n",
        "2 classes , no redundancy and total no of samples"
      ],
      "metadata": {
        "id": "m9YCXCISUTGZ"
      }
    },
    {
      "cell_type": "code",
      "source": [
        "from sklearn.datasets import make_classification           #importing make_classification from sk_learn\n",
        "X , y = make_classification(n_samples=100, n_features=2 , n_informative=1 , n_redundant=0 ,n_classes=2,\n",
        "                            n_clusters_per_class=1 , random_state=41 , hypercube=False ,\n",
        "                            class_sep=14)"
      ],
      "metadata": {
        "id": "JfMdBBK61nOC"
      },
      "execution_count": null,
      "outputs": []
    },
    {
      "cell_type": "code",
      "source": [
        "X.shape        #shape of X"
      ],
      "metadata": {
        "id": "b4oj2mgM28YI"
      },
      "execution_count": null,
      "outputs": []
    },
    {
      "cell_type": "code",
      "source": [
        "y.shape          #shape of Y"
      ],
      "metadata": {
        "id": "3NctaguJ3AKN"
      },
      "execution_count": null,
      "outputs": []
    },
    {
      "cell_type": "code",
      "source": [
        "X                       #values of X"
      ],
      "metadata": {
        "id": "GSRLJhJCU2Je"
      },
      "execution_count": null,
      "outputs": []
    },
    {
      "cell_type": "code",
      "source": [
        "y                     #values of Y"
      ],
      "metadata": {
        "id": "Y0Nia9x4FOYJ"
      },
      "execution_count": null,
      "outputs": []
    },
    {
      "cell_type": "code",
      "source": [
        "plt.figure(figsize=(10,6))\n",
        "plt.scatter(X[:,0],X[:,1],c=y ,cmap='rainbow' ,s=100)               #raindow values map\n",
        "plt.xlabel('X-Scale')                                                # x-scale y-scale\n",
        "plt.ylabel('Y-Scale')\n",
        "plt.title('Scatter Plot of Rainbow')\n",
        "plt.grid(True)                                                     #grid is also there for easier understanding\n",
        "plt.show()"
      ],
      "metadata": {
        "id": "v0dJz2oY3CUT"
      },
      "execution_count": null,
      "outputs": []
    },
    {
      "cell_type": "code",
      "source": [
        "def perceptron(X,y):\n",
        "\n",
        "\n",
        "   w1=w2=b=1                                  # w1  , w2 and B\n",
        "   lr=0.1                                     #learning rate\n",
        "\n",
        "   for j in range(1000):                       #loop going for 1000 times\n",
        "\n",
        "      for i in range(X.shape[0]):\n",
        "\n",
        "         z= w1*X[i][0]+ w2*X[i][1] + b          #line equation  of the following\n",
        "\n",
        "         if z*y[i] < 0:\n",
        "            w1= w1 -  lr*y[i]*X[i][0]           #LOSS FUNCTION\n",
        "            w2= w2 + lr*y[i]*X[i][1]\n",
        "            b= b + lr*y[i]\n",
        "\n",
        "   return w1,w2,b"
      ],
      "metadata": {
        "id": "_okouMT45qcs"
      },
      "execution_count": null,
      "outputs": []
    },
    {
      "cell_type": "code",
      "source": [
        "w1,w2,b=perceptron(X,y)                             #puttting the values w1 , w2 and b\n"
      ],
      "metadata": {
        "id": "pneWjXN66Y2B"
      },
      "execution_count": null,
      "outputs": []
    },
    {
      "cell_type": "code",
      "source": [
        "w1                                                  #value of w1"
      ],
      "metadata": {
        "id": "3cpS0Jxn6fBW"
      },
      "execution_count": null,
      "outputs": []
    },
    {
      "cell_type": "code",
      "source": [
        "w2                                                  #value of w2"
      ],
      "metadata": {
        "id": "p4r-o_z76iro"
      },
      "execution_count": null,
      "outputs": []
    },
    {
      "cell_type": "code",
      "source": [
        "b                                                    #value of b"
      ],
      "metadata": {
        "id": "ikGNdnmU6lp1"
      },
      "execution_count": null,
      "outputs": []
    },
    {
      "cell_type": "code",
      "source": [
        "m = -(w1/w2)                                                          #y=mx + c equation of the line\n",
        "c = -(b/w2)\n",
        "\n",
        "print(m,c)                                                         # we printing the value of slope and intercept"
      ],
      "metadata": {
        "id": "ubUy2k5c6qMC"
      },
      "execution_count": null,
      "outputs": []
    },
    {
      "cell_type": "code",
      "source": [
        "x_input = np.linspace( -3,3,100)                                  #x_input for the line\n",
        "y_input = m*x_input + c                                          # y_input for the line\n"
      ],
      "metadata": {
        "id": "9gqc8NOOBaZ2"
      },
      "execution_count": null,
      "outputs": []
    },
    {
      "cell_type": "markdown",
      "source": [
        "We are drawing the output figure of the output"
      ],
      "metadata": {
        "id": "6ObpCvUMWTxz"
      }
    },
    {
      "cell_type": "code",
      "source": [
        "\n",
        "plt.figure(figsize=(10,6))\n",
        "plt.plot(x_input,y_input, color='maroon', linewidth=3)                   # plotting the line for the following\n",
        "plt.scatter(X[:,0],X[:,1],c=y ,cmap='rainbow' ,s=100)                    # scatter plot of the follwoing\n",
        "\n",
        "\n",
        "plt.xlabel('X-Scale')\n",
        "plt.ylabel('Y-Scale')\n",
        "plt.title('Scatter Plot of Data Points made by me ')\n",
        "plt.ylim(-3,3)\n"
      ],
      "metadata": {
        "id": "O8-MC2HeCAsT"
      },
      "execution_count": null,
      "outputs": []
    }
  ]
}