{
  "nbformat": 4,
  "nbformat_minor": 0,
  "metadata": {
    "colab": {
      "private_outputs": true,
      "provenance": []
    },
    "kernelspec": {
      "name": "python3",
      "display_name": "Python 3"
    },
    "language_info": {
      "name": "python"
    }
  },
  "cells": [
    {
      "cell_type": "markdown",
      "source": [
        "# BACK Propagation using  KERAS"
      ],
      "metadata": {
        "id": "wIQq0BUOkEd8"
      }
    },
    {
      "cell_type": "markdown",
      "source": [
        "Our  HAND-MADE DATASET"
      ],
      "metadata": {
        "id": "Iv71TgY5gqeA"
      }
    },
    {
      "cell_type": "code",
      "source": [
        "import numpy as np\n",
        "import pandas as pd\n",
        "import matplotlib.pyplot as plt\n",
        "import seaborn as sns"
      ],
      "metadata": {
        "id": "CSTl_lOkg2vY"
      },
      "execution_count": null,
      "outputs": []
    },
    {
      "cell_type": "code",
      "source": [
        "df=pd.DataFrame([[8,8,4],[7,9,5],[6,10,6],[5,12,7]],columns=['cgpa', 'profile_score', 'lpa'])\n",
        "df"
      ],
      "metadata": {
        "id": "hsCBZQg0HZoM"
      },
      "execution_count": null,
      "outputs": []
    },
    {
      "cell_type": "markdown",
      "source": [
        "# Importing KERAS"
      ],
      "metadata": {
        "id": "exWcHEFmgdiZ"
      }
    },
    {
      "cell_type": "markdown",
      "source": [
        "We gonna do the same code but now using keras\n",
        "\n",
        "\n",
        "SO to see the difference"
      ],
      "metadata": {
        "id": "5kD1BxWlgXUC"
      }
    },
    {
      "cell_type": "code",
      "source": [
        "import tensorflow\n",
        "from tensorflow import keras\n",
        "from keras import Sequential\n",
        "from keras.layers import Dense"
      ],
      "metadata": {
        "id": "-O8QHo1qfGMC"
      },
      "execution_count": null,
      "outputs": []
    },
    {
      "cell_type": "markdown",
      "source": [
        "MAKING ANN ARCHITECTURE"
      ],
      "metadata": {
        "id": "Ij1cqgb4h_pS"
      }
    },
    {
      "cell_type": "code",
      "source": [
        "model = Sequential()\n",
        "model.add(Dense(2,activation='linear',input_dim=2))            #making the architechture\n",
        "model.add(Dense(1,activation='linear'))"
      ],
      "metadata": {
        "id": "NVM0DsAQgFqi"
      },
      "execution_count": null,
      "outputs": []
    },
    {
      "cell_type": "code",
      "source": [
        "model.summary()"
      ],
      "metadata": {
        "id": "gT0uscOAgIv0"
      },
      "execution_count": null,
      "outputs": []
    },
    {
      "cell_type": "code",
      "source": [
        "model.get_weights()"
      ],
      "metadata": {
        "id": "hA11-D5JgL-1"
      },
      "execution_count": null,
      "outputs": []
    },
    {
      "cell_type": "markdown",
      "source": [
        "Keras assigns the weights randomly"
      ],
      "metadata": {
        "id": "iTlmHUimgT6v"
      }
    },
    {
      "cell_type": "code",
      "source": [
        "#LIKE OUR PREVIOUS PROGRAM WE GONNA INNITIALIZE THE WEIGHTS AS 1 AND BIASES AS 0"
      ],
      "metadata": {
        "id": "jJwJ9w7hghuS"
      },
      "execution_count": null,
      "outputs": []
    },
    {
      "cell_type": "markdown",
      "source": [
        "TO SEE THAT HOW WELL IT CAN RUN"
      ],
      "metadata": {
        "id": "Ey_gZxw8iKh-"
      }
    },
    {
      "cell_type": "code",
      "source": [
        "new_weights = [np.array([[0.1,0.1],\n",
        "  [0.1,0.1]]),np.array([0,0]),np.array([[0.1],[0.1]]),np.array([0])]"
      ],
      "metadata": {
        "id": "GrniitrQiOhQ"
      },
      "execution_count": null,
      "outputs": []
    },
    {
      "cell_type": "markdown",
      "source": [],
      "metadata": {
        "id": "zDcXV3Xbisbh"
      }
    },
    {
      "cell_type": "code",
      "source": [
        "model.set_weights(new_weights) #we are using keras's set weights to set the weights to the one that we put in the previos line of the code"
      ],
      "metadata": {
        "id": "E1e-AvWxitBe"
      },
      "execution_count": null,
      "outputs": []
    },
    {
      "cell_type": "code",
      "source": [
        "model.get_weights()         #now we get the weights again"
      ],
      "metadata": {
        "id": "FhiLUcqni5ZP"
      },
      "execution_count": null,
      "outputs": []
    },
    {
      "cell_type": "markdown",
      "source": [
        "we get the learning rate as 0.001 as previously our learning rate was 0.01"
      ],
      "metadata": {
        "id": "o6Kfd616jEqg"
      }
    },
    {
      "cell_type": "code",
      "source": [
        "optimizer=keras.optimizers.Adam(learning_rate=0.001)\n",
        "model.compile(loss='mean_squared_error',optimizer=optimizer)"
      ],
      "metadata": {
        "id": "lsdMamOGi9Zb"
      },
      "execution_count": null,
      "outputs": []
    },
    {
      "cell_type": "markdown",
      "source": [
        "maybe the optimizer is different thats why keras took 75 epochs to converge which means keras ran the lopp 75 times to come to an conclusion"
      ],
      "metadata": {
        "id": "8qS7LDXkjV_h"
      }
    },
    {
      "cell_type": "code",
      "source": [
        "model.fit(df.iloc[:,0:-1].values,df['lpa'].values,epochs=75,verbose=1,batch_size=1)"
      ],
      "metadata": {
        "id": "kzE2eJbXjOtw"
      },
      "execution_count": null,
      "outputs": []
    },
    {
      "cell_type": "markdown",
      "source": [
        "this gonna show the changes that keras did to our wights and biases"
      ],
      "metadata": {
        "id": "sHnCzC0Yjv6d"
      }
    },
    {
      "cell_type": "code",
      "source": [
        "model.get_weights()"
      ],
      "metadata": {
        "id": "DYqXx7Trjs6n"
      },
      "execution_count": null,
      "outputs": []
    },
    {
      "cell_type": "code",
      "source": [
        "#previously when we did manually our loss came as 1.34 now our loss came as 1.4\n",
        "#it was a little bit better but We fully automated it this time"
      ],
      "metadata": {
        "id": "DT6_umjyj1LP"
      },
      "execution_count": null,
      "outputs": []
    }
  ]
}