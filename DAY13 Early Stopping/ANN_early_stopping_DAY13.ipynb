{
  "nbformat": 4,
  "nbformat_minor": 0,
  "metadata": {
    "colab": {
      "private_outputs": true,
      "provenance": [],
      "authorship_tag": "ABX9TyPODYvjfT5WoEq36KbM4H7W",
      "include_colab_link": true
    },
    "kernelspec": {
      "name": "python3",
      "display_name": "Python 3"
    },
    "language_info": {
      "name": "python"
    }
  },
  "cells": [
    {
      "cell_type": "markdown",
      "metadata": {
        "id": "view-in-github",
        "colab_type": "text"
      },
      "source": [
        "<a href=\"https://colab.research.google.com/github/priyadarshighosh/ANN_Everyday/blob/main/DAY13/ANN_early_stopping_DAY13.ipynb\" target=\"_parent\"><img src=\"https://colab.research.google.com/assets/colab-badge.svg\" alt=\"Open In Colab\"/></a>"
      ]
    },
    {
      "cell_type": "markdown",
      "source": [
        "IMPORTING DATA SCIENCE LIBRARIES AND FUCNTIONS"
      ],
      "metadata": {
        "id": "5TIQeg5ye9fH"
      }
    },
    {
      "cell_type": "code",
      "execution_count": null,
      "metadata": {
        "id": "fUM6OEDlcWKq"
      },
      "outputs": [],
      "source": [
        "\n",
        "import numpy as np\n",
        "import pandas as pd\n",
        "import matplotlib.pyplot as plt\n",
        "import seaborn as sns\n",
        "\n",
        "from pylab import rcParams\n",
        "import warnings\n",
        "\n",
        "from mlxtend.plotting import plot_decision_regions\n",
        "from matplotlib.colors import ListedColormap"
      ]
    },
    {
      "cell_type": "markdown",
      "source": [
        "IMPORTING MACHINE  LEARNING LIBRARIES AND FUCNTIONS"
      ],
      "metadata": {
        "id": "a7Ekp8wBexdY"
      }
    },
    {
      "cell_type": "code",
      "source": [
        "from sklearn.model_selection import train_test_split\n",
        "from sklearn.datasets import make_circles"
      ],
      "metadata": {
        "id": "Ap1UFrdpdCrf"
      },
      "execution_count": null,
      "outputs": []
    },
    {
      "cell_type": "markdown",
      "source": [
        "IMPORTING DEEP LEARNING LIBRARIES AND FUCNTIONS"
      ],
      "metadata": {
        "id": "kE3lZ5doeqbs"
      }
    },
    {
      "cell_type": "code",
      "source": [
        "import tensorflow as tf                                                   #deep learning library\n",
        "\n",
        "from tensorflow import keras                                              # keras integrated with tf\n",
        "\n",
        "from tensorflow.keras import Sequential                                   #sequential model - arranging the Keras layers in a sequential order\n",
        "\n",
        "from tensorflow.keras.layers import Dense, Flatten                       # used to process information and simplify arrays in convolutional neural networks\n",
        "\n",
        "from tensorflow.keras.layers import Dropout                              #used to prevent overfitting\n",
        "from tensorflow.keras.callbacks import EarlyStopping"
      ],
      "metadata": {
        "id": "4HtsXrMyeUql"
      },
      "execution_count": null,
      "outputs": []
    },
    {
      "cell_type": "markdown",
      "source": [
        "MAKING OUR OWN DATASET"
      ],
      "metadata": {
        "id": "BnAonzEnelb7"
      }
    },
    {
      "cell_type": "code",
      "source": [
        "X, y = make_circles(n_samples=100, noise=0.1, random_state=1)\n",
        "  # we are making our dataset"
      ],
      "metadata": {
        "id": "chK5JKlVeZqX"
      },
      "execution_count": null,
      "outputs": []
    },
    {
      "cell_type": "markdown",
      "source": [
        "# Train / Test Dataset"
      ],
      "metadata": {
        "id": "ko3sJN-akvp3"
      }
    },
    {
      "cell_type": "code",
      "source": [
        "X_train , X_test , y_train , y_test = train_test_split(X, y, test_size=0.2, random_state=2)"
      ],
      "metadata": {
        "id": "TG-Z7FpkhF6d"
      },
      "execution_count": null,
      "outputs": []
    },
    {
      "cell_type": "markdown",
      "source": [
        "# WITHOUT USING  USING EARLY STOPPING"
      ],
      "metadata": {
        "id": "lH0sW2aNiC0-"
      }
    },
    {
      "cell_type": "markdown",
      "source": [
        "ANN ARCHITECTURE"
      ],
      "metadata": {
        "id": "s0BXD3tOk6V9"
      }
    },
    {
      "cell_type": "code",
      "source": [
        "model = Sequential()\n",
        "                                                              # 2 inout in the input layer\n",
        "model.add(Dense(256, input_dim=2, activation='relu'))\n",
        "model.add(Dense(1, activation='sigmoid'))                     #sigmoid function 1 output"
      ],
      "metadata": {
        "id": "dBi6pbKhhfku"
      },
      "execution_count": null,
      "outputs": []
    },
    {
      "cell_type": "markdown",
      "source": [
        "We are using binary crossentropy as we have 2 kind of points they gonna be eitehr inside the circle or out of the circle"
      ],
      "metadata": {
        "id": "X-WAtVnxlGCo"
      }
    },
    {
      "cell_type": "code",
      "source": [
        "model.compile(loss='binary_crossentropy', optimizer='adam', metrics=['accuracy'])  #Compilation step"
      ],
      "metadata": {
        "id": "U8DO54afhgab"
      },
      "execution_count": null,
      "outputs": []
    },
    {
      "cell_type": "markdown",
      "source": [
        "TOTAL NO OF EPOCHS IS 3500 , means loop gonna go on for 3500 times // verbose = 0 means no output during training the data"
      ],
      "metadata": {
        "id": "yxS79sdLlfds"
      }
    },
    {
      "cell_type": "code",
      "source": [
        "history = model.fit(X_train, y_train, validation_data=(X_test, y_test), epochs=3500, verbose=0)"
      ],
      "metadata": {
        "id": "AmiGG9LUhgSR"
      },
      "execution_count": null,
      "outputs": []
    },
    {
      "cell_type": "markdown",
      "source": [
        "# GraphS WITHOUT USING EARLY STOPING"
      ],
      "metadata": {
        "id": "pPMh19R1l2qb"
      }
    },
    {
      "cell_type": "code",
      "source": [
        "plt.plot(history.history['loss'], label='train')\n",
        "plt.plot(history.history['val_loss'], label='test')\n",
        "plt.legend()\n",
        "plt.show()"
      ],
      "metadata": {
        "id": "ROVKL5iGhgIQ"
      },
      "execution_count": null,
      "outputs": []
    },
    {
      "cell_type": "markdown",
      "source": [
        "AFTER 300-350 THE LOSS OF TEST SET SIGNIFICANTLY INCREASES COMPARED TO THE TRAIN SET .\n",
        "\n",
        "OVERFITTING CASE"
      ],
      "metadata": {
        "id": "U9vA-JV87Fa-"
      }
    },
    {
      "cell_type": "code",
      "source": [
        "plot_decision_regions(X_test, y_test.ravel(), clf = model, legend=2)\n",
        "plt.show()"
      ],
      "metadata": {
        "id": "Gwsk0xR0hqyN"
      },
      "execution_count": null,
      "outputs": []
    },
    {
      "cell_type": "markdown",
      "source": [
        "OVERFITTING IS HAPPENING HERE ,\n"
      ],
      "metadata": {
        "id": "FRvi4Vd_7AOz"
      }
    },
    {
      "cell_type": "markdown",
      "source": [
        "# USING EARLY STOPPING"
      ],
      "metadata": {
        "id": "g-TQoCwah6A5"
      }
    },
    {
      "cell_type": "code",
      "source": [
        "model = Sequential()                                         #ANN MODEL CREATION\n",
        "\n",
        "model.add(Dense(256, input_dim=2, activation='relu'))\n",
        "model.add(Dense(1, activation='sigmoid'))"
      ],
      "metadata": {
        "id": "lLmuwxI03kmC"
      },
      "execution_count": null,
      "outputs": []
    },
    {
      "cell_type": "code",
      "source": [
        "model.compile(loss='binary_crossentropy', optimizer='adam', metrics=['accuracy'])   # COMPILATION"
      ],
      "metadata": {
        "id": "ADUj9OkziRv3"
      },
      "execution_count": null,
      "outputs": []
    },
    {
      "cell_type": "markdown",
      "source": [
        "# Configuring early stopping and store it in a variable known as callback"
      ],
      "metadata": {
        "id": "Y1wdX4FwkdCg"
      }
    },
    {
      "cell_type": "code",
      "source": [
        "callback = EarlyStopping(                   # WE ARE MAKING AN OBJECT OF THE EARLY STOPPING CLASS\n",
        "    monitor=\"val_loss\",\n",
        "    min_delta=0.0001,\n",
        "    patience=20,\n",
        "    verbose=1,\n",
        "    mode=\"auto\",\n",
        "    baseline=None,\n",
        "    restore_best_weights=False\n",
        ")"
      ],
      "metadata": {
        "id": "K2vMBoGaiSqu"
      },
      "execution_count": null,
      "outputs": []
    },
    {
      "cell_type": "code",
      "source": [
        "history = model.fit(X_train, y_train, validation_data=(X_test, y_test), epochs=3500, callbacks=callback)"
      ],
      "metadata": {
        "id": "GVYcxy9viWMu"
      },
      "execution_count": null,
      "outputs": []
    },
    {
      "cell_type": "markdown",
      "source": [
        "# Graph after using EARLY STOPPING"
      ],
      "metadata": {
        "id": "NDKtzqFYmMZ8"
      }
    },
    {
      "cell_type": "code",
      "source": [
        "plt.plot(history.history['loss'], label='train')\n",
        "plt.plot(history.history['val_loss'], label='test')\n",
        "plt.legend()\n",
        "plt.show()"
      ],
      "metadata": {
        "id": "_UtIRzy6iXA7"
      },
      "execution_count": null,
      "outputs": []
    },
    {
      "cell_type": "code",
      "source": [
        "plot_decision_regions(X_test, y_test.ravel(), clf = model, legend=2)\n",
        "plt.show()"
      ],
      "metadata": {
        "id": "uOHP9rxgiZtw"
      },
      "execution_count": null,
      "outputs": []
    }
  ]
}
