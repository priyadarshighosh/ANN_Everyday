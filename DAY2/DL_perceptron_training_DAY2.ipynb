{
  "nbformat": 4,
  "nbformat_minor": 0,
  "metadata": {
    "colab": {
      "private_outputs": true,
      "provenance": [],
      "toc_visible": true,
      "authorship_tag": "ABX9TyPbQfcjtyVx3AffOB4qbeJZ",
      "include_colab_link": true
    },
    "kernelspec": {
      "name": "python3",
      "display_name": "Python 3"
    },
    "language_info": {
      "name": "python"
    }
  },
  "cells": [
    {
      "cell_type": "markdown",
      "metadata": {
        "id": "view-in-github",
        "colab_type": "text"
      },
      "source": [
        "<a href=\"https://colab.research.google.com/github/priyadarshighosh/Study-DL-Everyday/blob/main/DL_perceptron_training_DAY2.ipynb\" target=\"_parent\"><img src=\"https://colab.research.google.com/assets/colab-badge.svg\" alt=\"Open In Colab\"/></a>"
      ]
    },
    {
      "cell_type": "markdown",
      "source": [
        "The folling code we first imported all the necessary libraries of python\n",
        "\n",
        "With the help of make_classification class from scikit learn we make our own CLASSIFICATION GRAPH\n"
      ],
      "metadata": {
        "id": "B2GqnvtV0mG9"
      }
    },
    {
      "cell_type": "markdown",
      "source": [
        "How do we make this classification graph ?"
      ],
      "metadata": {
        "id": "LnGplMxv2lrK"
      }
    },
    {
      "cell_type": "markdown",
      "source": [
        "\n",
        "\n",
        "*   n_samples=100: Creates 100 data points.\n",
        "\n",
        "*   n_features=2: Each data point has 2 features.\n",
        "\n",
        "*   n_informative=1: One feature is informative (useful for  classification).\n",
        "\n",
        "*   n_redundant=0: No redundant features.\n",
        "\n",
        "*   n_classes=2: There are two classes (binary classification).\n",
        "\n",
        "*    n_clusters_per_class=1: Each class has one cluster\n",
        "class_sep=10: Specifies high separability between classes.\n",
        "\n",
        "*    random_state=41: Ensures reproducibility.\n",
        "\n",
        "*    hypercube=False: Points are not distributed in a hypercube, making the data easier to separate.\n",
        "\n",
        "\n",
        "\n",
        "\n",
        "\n",
        "\n"
      ],
      "metadata": {
        "id": "V4vUyRY32qdE"
      }
    },
    {
      "cell_type": "code",
      "execution_count": null,
      "metadata": {
        "id": "Um3rPQC7yQpX"
      },
      "outputs": [],
      "source": [
        "# prompt: run all the codes\n",
        "\n",
        "from sklearn.datasets import make_classification\n",
        "import numpy as np\n",
        "import matplotlib.pyplot as plt\n",
        "\n",
        "X, y = make_classification(n_samples=100, n_features=2, n_informative=1,\n",
        "                           n_redundant=0, n_classes=2, n_clusters_per_class=1,\n",
        "                           class_sep=10, random_state=41, hypercube=False)\n",
        "\n",
        "plt.scatter(X[:, 0], X[:, 1], c=y, cmap='winter')\n",
        "plt.xlabel('Feature 1')\n",
        "plt.ylabel('Feature 2')\n",
        "plt.title('Classification Graph')\n",
        "plt.show()\n"
      ]
    },
    {
      "cell_type": "code",
      "source": [
        "X             #input values of the my dataset ( self made not imported)"
      ],
      "metadata": {
        "id": "gqMbwB0a61tz"
      },
      "execution_count": null,
      "outputs": []
    },
    {
      "cell_type": "code",
      "source": [
        "y           #output values of my handmade dataset"
      ],
      "metadata": {
        "id": "jqvNIktg64_f"
      },
      "execution_count": null,
      "outputs": []
    },
    {
      "cell_type": "code",
      "source": [
        "plt.figure(figsize=(10,6))\n",
        "plt.scatter(X[:,0], X[:,1], c=y ,cmap='winter' , s=100)            #figure is in the ratio 10 , 6\n",
        "\n"
      ],
      "metadata": {
        "id": "vOm0oSNQzaH6"
      },
      "execution_count": null,
      "outputs": []
    },
    {
      "cell_type": "markdown",
      "source": [
        "This is the main body of the program\n",
        "   where if the we predict correctly nothing will happen but if we predict incorrectly the value going to change accordingly like positively or negetively"
      ],
      "metadata": {
        "id": "vTgFPufV53Qm"
      }
    },
    {
      "cell_type": "code",
      "source": [
        "X.shape"
      ],
      "metadata": {
        "id": "yI2ReMqb8mnA"
      },
      "execution_count": null,
      "outputs": []
    },
    {
      "cell_type": "code",
      "source": [
        "y.shape"
      ],
      "metadata": {
        "id": "2CJ2lZX68qYx"
      },
      "execution_count": null,
      "outputs": []
    },
    {
      "cell_type": "markdown",
      "source": [
        "Lr is the LEARNING RATE OF THE Following function"
      ],
      "metadata": {
        "id": "3fnDU8ytMtIn"
      }
    },
    {
      "cell_type": "code",
      "source": [
        "def perceptron(X,y):\n",
        "\n",
        "      X = np.insert(X, 0, 1, axis=1)                  #we adding 1 to every of this X dataset\n",
        "      weights = np.ones(X.shape[1])\n",
        "      lr=0.1\n",
        "                                                            #now the loop will start we gonna choose random values from the values\n",
        "      for i in range(1000):                                 #The loop will run 1000 times\n",
        "        j=np.random.randint(0,100)\n",
        "        y_hat = step(np.dot(X[j],weights))\n",
        "        weights = weights + lr*(y[j]-y_hat)*X[j]\n",
        "\n",
        "      return weights[0],weights[1:]\n"
      ],
      "metadata": {
        "id": "yv3ZXjrP4R6D"
      },
      "execution_count": null,
      "outputs": []
    },
    {
      "cell_type": "markdown",
      "source": [
        "In the above code we will choose any point from the dataset randomly then we check the prediction if both matches we wont do anything and move to the next random number and check if its value matches the predicted"
      ],
      "metadata": {
        "id": "wKDz4L-t83VE"
      }
    },
    {
      "cell_type": "code",
      "source": [
        "np.insert(X, 0, 1, axis=1)"
      ],
      "metadata": {
        "id": "74WvU3BZ6fJl"
      },
      "execution_count": null,
      "outputs": []
    },
    {
      "cell_type": "code",
      "source": [
        "def step(x):                 #this is the step fuction where the value we get from performing the fuction from\n",
        "  if x>0:             # if its more than 0 then we predict as 1\n",
        "                          #if its less than 0 we predict it as 0\n",
        "\n",
        "    return 1\n",
        "  else:\n",
        "    return  0"
      ],
      "metadata": {
        "id": "R5A5ZwI18wM7"
      },
      "execution_count": null,
      "outputs": []
    },
    {
      "cell_type": "code",
      "source": [
        "step(-.999)"
      ],
      "metadata": {
        "id": "NtrnIyFxMQ34"
      },
      "execution_count": null,
      "outputs": []
    },
    {
      "cell_type": "code",
      "source": [
        "step(0.56)"
      ],
      "metadata": {
        "id": "KfchZwEpMYJv"
      },
      "execution_count": null,
      "outputs": []
    },
    {
      "cell_type": "code",
      "source": [
        "intercept_,coef_ = perceptron(X,y)"
      ],
      "metadata": {
        "id": "By_hsqmrM3w4"
      },
      "execution_count": null,
      "outputs": []
    },
    {
      "cell_type": "code",
      "source": [
        "print(coef_)\n",
        "print(intercept_)"
      ],
      "metadata": {
        "id": "3nh0MfkfNVHZ"
      },
      "execution_count": null,
      "outputs": []
    },
    {
      "cell_type": "markdown",
      "source": [
        "Now we gonna make the line right\n",
        " M is the slope and c is the intercept"
      ],
      "metadata": {
        "id": "2wDkF9LcNu1X"
      }
    },
    {
      "cell_type": "markdown",
      "source": [
        "CHECK THE COMMENTS for further information"
      ],
      "metadata": {
        "id": "cEU4X-sjPIUq"
      }
    },
    {
      "cell_type": "code",
      "source": [
        "m = -(coef_[0]/coef_[1])        # IN THE LINE  Ax + By + C = 0\n",
        "                                            #  m = -A/B\n",
        "                                            #  c = -C/B\n",
        "b = -(intercept_/coef_[1])"
      ],
      "metadata": {
        "id": "Jt0BUYjcNw0A"
      },
      "execution_count": null,
      "outputs": []
    },
    {
      "cell_type": "code",
      "source": [
        "x_input = np.linspace(-3,3,100)\n",
        "y_input = m*x_input  +  b           #EQUATION OF THE NEW LINE"
      ],
      "metadata": {
        "id": "6T9GzugZONDp"
      },
      "execution_count": null,
      "outputs": []
    },
    {
      "cell_type": "markdown",
      "source": [
        "NOW WE PLOT THE FINAL GRAPH"
      ],
      "metadata": {
        "id": "J-ByWoS6Pl3V"
      }
    },
    {
      "cell_type": "code",
      "source": [
        "plt.figure(figsize=(10,6))\n",
        "plt.plot(x_input,y_input,color='maroon', linewidth=3)\n",
        "plt.scatter(X[:,0], X[:,1], c=y ,cmap='winter' , s=100)\n",
        "#plt.plot(x_input,y_input,color='red', linewidth=2)\n",
        "plt.ylim(-3,3)\n",
        "plt.xlim(-3,3)\n",
        "plt.xlabel('Feature 1')\n",
        "plt.ylabel('Feature 2')\n",
        "plt.title('Classification Graph made by me ')\n",
        "plt.show()\n"
      ],
      "metadata": {
        "id": "3fBB6au3PqlI"
      },
      "execution_count": null,
      "outputs": []
    }
  ]
}
