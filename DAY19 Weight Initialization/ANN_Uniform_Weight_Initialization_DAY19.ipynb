{
  "nbformat": 4,
  "nbformat_minor": 0,
  "metadata": {
    "colab": {
      "private_outputs": true,
      "provenance": []
    },
    "kernelspec": {
      "name": "python3",
      "display_name": "Python 3"
    },
    "language_info": {
      "name": "python"
    }
  },
  "cells": [
    {
      "cell_type": "markdown",
      "source": [
        "# How  to Initializa Weights\n",
        "\n",
        "# Xavier/Gorat Method and HE Method (Uniform Distribution )\n",
        "\n",
        "---"
      ],
      "metadata": {
        "id": "u93QB4H8gs0F"
      }
    },
    {
      "cell_type": "markdown",
      "source": [
        "Importing Python libraries"
      ],
      "metadata": {
        "id": "vrEzW6nDrROu"
      }
    },
    {
      "cell_type": "code",
      "execution_count": null,
      "metadata": {
        "id": "JF9RMWnFZYq3"
      },
      "outputs": [],
      "source": [
        "import numpy as np\n",
        "import pandas as pd\n",
        "import matplotlib.pyplot as plt\n",
        "import seaborn as sns\n"
      ]
    },
    {
      "cell_type": "markdown",
      "source": [
        "IMPORTING MACHINE LEARNING LIBRARIES AND CLASSES"
      ],
      "metadata": {
        "id": "eQYW8ynycqpU"
      }
    },
    {
      "cell_type": "code",
      "source": [
        "from sklearn.model_selection import train_test_split               #for splitting the data into test and training data\n",
        "from sklearn.compose import ColumnTransformer                       #for transforming the columns\n",
        "from sklearn.impute import SimpleImputer                             #for imputing the missing values\n",
        "from sklearn.preprocessing import OneHotEncoder                      #one hot encoding\n",
        "from sklearn.preprocessing import MinMaxScaler                        #standard scaling\n",
        "\n",
        "\n",
        "from sklearn.datasets import make_moons\n",
        "from mlxtend.plotting import plot_decision_regions                   #for decision boundary\n",
        "\n",
        "\n",
        "from sklearn.metrics import accuracy_score                 # for accuracy score\n",
        "from sklearn.model_selection import cross_val_score        # for cross validation score"
      ],
      "metadata": {
        "id": "5H7sUowSa3_I"
      },
      "execution_count": null,
      "outputs": []
    },
    {
      "cell_type": "markdown",
      "source": [
        "Importing Deep learning Libraries"
      ],
      "metadata": {
        "id": "m0W9L8dyrAbl"
      }
    },
    {
      "cell_type": "code",
      "source": [
        "\n",
        "import tensorflow as tf                                                   #deep learning library\n",
        "\n",
        "from tensorflow import keras                                              # keras integrated with tf\n",
        "\n",
        "from tensorflow.keras import Sequential                                   #sequential model - arranging the Keras layers in a sequential order\n",
        "\n",
        "from tensorflow.keras.layers import Dense, Flatten                       # used to process information and simplify arrays in convolutional neural networks\n",
        "\n",
        "from tensorflow.keras.layers import Dropout                              #used to prevent overfitting\n",
        "from tensorflow.keras.callbacks import EarlyStopping\n",
        "from tensorflow.keras.optimizers import Adam                             #Optimizer\n"
      ],
      "metadata": {
        "id": "MJdstiajrA7m"
      },
      "execution_count": null,
      "outputs": []
    },
    {
      "cell_type": "markdown",
      "source": [
        "We are making our own dataset"
      ],
      "metadata": {
        "id": "1BHUDrzIY0y9"
      }
    },
    {
      "cell_type": "code",
      "source": [
        "X , y =make_moons(n_samples=200, noise=0.20, random_state=42)"
      ],
      "metadata": {
        "id": "nZMsdGPkY0Pt"
      },
      "execution_count": null,
      "outputs": []
    },
    {
      "cell_type": "code",
      "source": [
        "plt.scatter(X[:,0],X[:,1], c=y)\n",
        "plt.show()"
      ],
      "metadata": {
        "id": "DxsVDNyVdAMG"
      },
      "execution_count": null,
      "outputs": []
    },
    {
      "cell_type": "markdown",
      "source": [
        "# Neural Network Architechture Tanh activation and Sigmoid function\n",
        "\n",
        "# Xavier/ Glorat Uniform Initialization Method"
      ],
      "metadata": {
        "id": "8UCX5EW7cJ6j"
      }
    },
    {
      "cell_type": "code",
      "source": [
        "model2 = Sequential()\n",
        "\n",
        "model2.add(Dense(10, activation='tanh',input_dim=2, kernel_initializer='glorot_uniform'))\n",
        "model2.add(Dense(10, activation='tanh', kernel_initializer='glorot_uniform'))\n",
        "model2.add(Dense(10, activation='tanh', kernel_initializer='glorot_uniform'))\n",
        "model2.add(Dense(10, activation='tanh', kernel_initializer='glorot_uniform'))\n",
        "model2.add(Dense(1, activation='sigmoid'))"
      ],
      "metadata": {
        "id": "P1v8vwcPcJ6j"
      },
      "execution_count": null,
      "outputs": []
    },
    {
      "cell_type": "code",
      "source": [
        "\n",
        "model2.summary()"
      ],
      "metadata": {
        "id": "cWammWLNcJ6j"
      },
      "execution_count": null,
      "outputs": []
    },
    {
      "cell_type": "markdown",
      "source": [
        "Getting the default Weights"
      ],
      "metadata": {
        "id": "RcwIMWNRcJ6j"
      }
    },
    {
      "cell_type": "code",
      "source": [
        "model2.get_weights()"
      ],
      "metadata": {
        "id": "niL0v6AVcJ6k"
      },
      "execution_count": null,
      "outputs": []
    },
    {
      "cell_type": "markdown",
      "source": [],
      "metadata": {
        "id": "DcRCoTY3yV6n"
      }
    },
    {
      "cell_type": "markdown",
      "source": [
        "# Changing the Weights to Randomly"
      ],
      "metadata": {
        "id": "RrgKdIgYrp9K"
      }
    },
    {
      "cell_type": "code",
      "source": [
        "initial_weights  =model2.get_weights()"
      ],
      "metadata": {
        "id": "LMd9gS46rp9Y"
      },
      "execution_count": null,
      "outputs": []
    },
    {
      "cell_type": "code",
      "source": [
        "initial_weights[0] =np.random.rand(2,10)*np.sqrt(1/2)\n",
        "initial_weights[1] =np.zeros(model2.get_weights()[1].shape)\n",
        "initial_weights[2] =np.random.rand(10,10)*np.sqrt(1/10)\n",
        "initial_weights[3] =np.zeros(model2.get_weights()[3].shape)\n",
        "initial_weights[4] =np.random.rand(10,10)*np.sqrt(1/10)\n",
        "initial_weights[5] =np.zeros(model2.get_weights()[5].shape)\n",
        "initial_weights[6] =np.random.rand(10,10)*np.sqrt(1/10)\n",
        "initial_weights[7] =np.zeros(model2.get_weights()[7].shape)\n",
        "initial_weights[8] =np.random.rand(10,1)*np.sqrt(1/10)\n",
        "initial_weights[9] =np.zeros(model2.get_weights()[9].shape)"
      ],
      "metadata": {
        "id": "jgHejdWorp9Z"
      },
      "execution_count": null,
      "outputs": []
    },
    {
      "cell_type": "markdown",
      "source": [
        "Setting the new model weights as Initial Weights"
      ],
      "metadata": {
        "id": "dkW6VrRFrp9Z"
      }
    },
    {
      "cell_type": "code",
      "source": [
        "model2.set_weights(initial_weights)"
      ],
      "metadata": {
        "id": "tHioDVGFrp9Z"
      },
      "execution_count": null,
      "outputs": []
    },
    {
      "cell_type": "markdown",
      "source": [
        "Getting the NEW weights"
      ],
      "metadata": {
        "id": "LKs4ol8Jrp9a"
      }
    },
    {
      "cell_type": "code",
      "source": [
        "model2.get_weights()"
      ],
      "metadata": {
        "id": "oIqUeHs5rp9a"
      },
      "execution_count": null,
      "outputs": []
    },
    {
      "cell_type": "markdown",
      "source": [
        "Above all the weights set randomly"
      ],
      "metadata": {
        "id": "7PHDXUQSrp9a"
      }
    },
    {
      "cell_type": "markdown",
      "source": [
        "# Training The Model"
      ],
      "metadata": {
        "id": "n2gwHbITcyBE"
      }
    },
    {
      "cell_type": "markdown",
      "source": [
        "Compilation of the model"
      ],
      "metadata": {
        "id": "AqcPXBRPcyBO"
      }
    },
    {
      "cell_type": "code",
      "source": [
        "adam=Adam(learning_rate=0.01)\n",
        "model2.compile(optimizer=adam, loss='binary_crossentropy', metrics=['accuracy'])"
      ],
      "metadata": {
        "id": "WqZk8Ol9cyBO"
      },
      "execution_count": null,
      "outputs": []
    },
    {
      "cell_type": "markdown",
      "source": [
        "Fitting the model and getting the details"
      ],
      "metadata": {
        "id": "sFF0Y_J6cyBO"
      }
    },
    {
      "cell_type": "code",
      "source": [
        "history2=model2.fit(X,y, epochs=100,validation_split=0.2 ,verbose=1)"
      ],
      "metadata": {
        "id": "oXcKNRlgcyBO"
      },
      "execution_count": null,
      "outputs": []
    },
    {
      "cell_type": "markdown",
      "source": [
        "We are finding the model weight after training it"
      ],
      "metadata": {
        "id": "xaIe_eHlcyBO"
      }
    },
    {
      "cell_type": "code",
      "source": [
        "model2.get_weights()"
      ],
      "metadata": {
        "id": "hRlbw9OscyBO"
      },
      "execution_count": null,
      "outputs": []
    },
    {
      "cell_type": "markdown",
      "source": [
        "# Getting the Graph !!"
      ],
      "metadata": {
        "id": "pIf4RZoHc8_D"
      }
    },
    {
      "cell_type": "code",
      "source": [
        "plot_decision_regions(X, y.astype('int'),clf=model2, legend=2)\n",
        "plt.xlim(-2,3)\n",
        "plt.ylim(-2,3)\n",
        "plt.show()"
      ],
      "metadata": {
        "id": "pWdZ4MOMc8_Q"
      },
      "execution_count": null,
      "outputs": []
    },
    {
      "cell_type": "markdown",
      "source": [
        "Accuracy and Prediction"
      ],
      "metadata": {
        "id": "hdAcNRlPc8_Q"
      }
    },
    {
      "cell_type": "code",
      "source": [
        "plt.plot(history2.history['accuracy'])\n",
        "plt.plot(history2.history['val_accuracy'])\n",
        "\n",
        "plt.legend(['train', 'test'], loc='upper right')\n",
        "\n",
        "\n",
        "plt.title('Model accuracy')\n",
        "plt.ylabel('Accuracy')\n",
        "plt.xlabel('Epoch')\n",
        "plt.show()"
      ],
      "metadata": {
        "id": "3qzeXimtc8_R"
      },
      "execution_count": null,
      "outputs": []
    },
    {
      "cell_type": "code",
      "source": [
        "plt.plot(history2.history['loss'])\n",
        "plt.plot(history2.history['val_loss'])\n",
        "\n",
        "plt.legend(['train', 'test'], loc='upper right')\n",
        "\n",
        "\n",
        "plt.title('Model loss')\n",
        "plt.ylabel('Loss')\n",
        "plt.xlabel('Epoch')\n",
        "plt.show()"
      ],
      "metadata": {
        "id": "Ul4hnuiuc8_R"
      },
      "execution_count": null,
      "outputs": []
    },
    {
      "cell_type": "markdown",
      "source": [
        "This works Amazingly  WELL\n",
        "\n",
        "Xavier/Glorat Transformation Works very well .\n",
        "\n",
        "GLOROT UNIFORM INITIALIZATION ALSO WORKS AMAZINGLY WELL WITH UNIFORM DISTRIBUTION"
      ],
      "metadata": {
        "id": "1_hQwB4Hc8_R"
      }
    },
    {
      "cell_type": "markdown",
      "source": [
        "# Neural Network Architechture RELU activation function\n",
        "\n",
        "# HE Normal Initialization"
      ],
      "metadata": {
        "id": "1dZq9gKPlcbN"
      }
    },
    {
      "cell_type": "markdown",
      "source": [
        "![Screenshot 2024-09-14 233434.png](data:image/png;base64,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)"
      ],
      "metadata": {
        "id": "uLAoRE5auBgX"
      }
    },
    {
      "cell_type": "code",
      "source": [
        "model3 = Sequential()\n",
        "\n",
        "model3.add(Dense(10, activation='relu',input_dim=2 ,kernel_initializer='he_uniform'))\n",
        "model3.add(Dense(10, activation='relu',kernel_initializer='he_uniform'))\n",
        "model3.add(Dense(10, activation='relu',kernel_initializer='he_uniform'))\n",
        "model3.add(Dense(10, activation='relu',kernel_initializer='he_uniform'))\n",
        "model3.add(Dense(1, activation='sigmoid'))"
      ],
      "metadata": {
        "id": "-dmdB6CZlcbU"
      },
      "execution_count": null,
      "outputs": []
    },
    {
      "cell_type": "code",
      "source": [
        "\n",
        "model3.summary()"
      ],
      "metadata": {
        "id": "wmZujnB_lcbU"
      },
      "execution_count": null,
      "outputs": []
    },
    {
      "cell_type": "markdown",
      "source": [
        "Getting the default Weights"
      ],
      "metadata": {
        "id": "bbo8ALRzlcbV"
      }
    },
    {
      "cell_type": "code",
      "source": [
        "model3.get_weights()"
      ],
      "metadata": {
        "id": "O7LrUBT9lcbV"
      },
      "execution_count": null,
      "outputs": []
    },
    {
      "cell_type": "markdown",
      "source": [
        "# Changing the Weights to Randomly"
      ],
      "metadata": {
        "id": "Vl7PwjTOlg8k"
      }
    },
    {
      "cell_type": "code",
      "source": [
        "initial_weights  =model3.get_weights()"
      ],
      "metadata": {
        "id": "tfG34jcGlg8s"
      },
      "execution_count": null,
      "outputs": []
    },
    {
      "cell_type": "markdown",
      "source": [
        "Biases will be initialized as 0 and Other weights will be HE NORMAL INITIALIZED"
      ],
      "metadata": {
        "id": "1TsVhX2wkANx"
      }
    },
    {
      "cell_type": "code",
      "source": [
        "initial_weights[0] =np.random.rand(2,10)*np.sqrt(2/2)\n",
        "initial_weights[1] =np.zeros(model3.get_weights()[1].shape)\n",
        "initial_weights[2] =np.random.rand(10,10)*np.sqrt(2/10)\n",
        "initial_weights[3] =np.zeros(model3.get_weights()[3].shape)\n",
        "initial_weights[4] =np.random.rand(10,10)*np.sqrt(2/10)\n",
        "initial_weights[5] =np.zeros(model3.get_weights()[5].shape)\n",
        "initial_weights[6] =np.random.rand(10,10)*np.sqrt(2/10)\n",
        "initial_weights[7] =np.zeros(model3.get_weights()[7].shape)\n",
        "initial_weights[8] =np.random.rand(10,1)*np.sqrt(2/10)\n",
        "initial_weights[9] =np.zeros(model3.get_weights()[9].shape)"
      ],
      "metadata": {
        "id": "6PnjiYIMlg8s"
      },
      "execution_count": null,
      "outputs": []
    },
    {
      "cell_type": "markdown",
      "source": [
        "Setting the new model weights as Initial Weights"
      ],
      "metadata": {
        "id": "VtMCTX7blg8s"
      }
    },
    {
      "cell_type": "code",
      "source": [
        "model3.set_weights(initial_weights)"
      ],
      "metadata": {
        "id": "9kZqjBxDlg8s"
      },
      "execution_count": null,
      "outputs": []
    },
    {
      "cell_type": "markdown",
      "source": [
        "Getting the NEW weights"
      ],
      "metadata": {
        "id": "kD_t72nTlg8s"
      }
    },
    {
      "cell_type": "code",
      "source": [
        "model3.get_weights()"
      ],
      "metadata": {
        "id": "9Y-vC9ZYlg8s"
      },
      "execution_count": null,
      "outputs": []
    },
    {
      "cell_type": "markdown",
      "source": [
        "Above all the weights set to Non-Zero COnstant"
      ],
      "metadata": {
        "id": "kGe17RKplg8s"
      }
    },
    {
      "cell_type": "markdown",
      "source": [
        "# Training The Model"
      ],
      "metadata": {
        "id": "0vMBOlz9lllQ"
      }
    },
    {
      "cell_type": "markdown",
      "source": [
        "Compilation of the model"
      ],
      "metadata": {
        "id": "dScFoRgWllld"
      }
    },
    {
      "cell_type": "code",
      "source": [
        "adam=Adam(learning_rate=0.01)\n",
        "model3.compile(optimizer=adam, loss='binary_crossentropy', metrics=['accuracy'])"
      ],
      "metadata": {
        "id": "DlQXZArhllld"
      },
      "execution_count": null,
      "outputs": []
    },
    {
      "cell_type": "markdown",
      "source": [
        "Fitting the model and getting the details"
      ],
      "metadata": {
        "id": "56RVp7_vllle"
      }
    },
    {
      "cell_type": "code",
      "source": [
        "history3=model3.fit(X,y, epochs=100,validation_split=0.2 ,verbose=1)"
      ],
      "metadata": {
        "id": "aPzX5KIgllle"
      },
      "execution_count": null,
      "outputs": []
    },
    {
      "cell_type": "markdown",
      "source": [
        "We are finding the model weight after training it"
      ],
      "metadata": {
        "id": "pfkhnNNCllle"
      }
    },
    {
      "cell_type": "code",
      "source": [
        "model3.get_weights()"
      ],
      "metadata": {
        "id": "ZBqFCPinllle"
      },
      "execution_count": null,
      "outputs": []
    },
    {
      "cell_type": "markdown",
      "source": [
        "# Getting the Graph !!"
      ],
      "metadata": {
        "id": "oGXeyhfJlpWK"
      }
    },
    {
      "cell_type": "code",
      "source": [
        "plot_decision_regions(X, y.astype('int'),clf=model3, legend=2)\n",
        "plt.xlim(-2,3)\n",
        "plt.ylim(-2,3)\n",
        "plt.show()"
      ],
      "metadata": {
        "id": "PbEGagZnlpWW"
      },
      "execution_count": null,
      "outputs": []
    },
    {
      "cell_type": "markdown",
      "source": [
        "Accuracy and Prediction"
      ],
      "metadata": {
        "id": "iO2vELP7lpWW"
      }
    },
    {
      "cell_type": "code",
      "source": [
        "plt.plot(history3.history['accuracy'])\n",
        "plt.plot(history3.history['val_accuracy'])\n",
        "\n",
        "plt.legend(['train', 'test'], loc='upper right')\n",
        "\n",
        "\n",
        "plt.title('Model accuracy')\n",
        "plt.ylabel('Accuracy')\n",
        "plt.xlabel('Epoch')\n",
        "plt.show()"
      ],
      "metadata": {
        "id": "Mla-Jt18lpWW"
      },
      "execution_count": null,
      "outputs": []
    },
    {
      "cell_type": "code",
      "source": [
        "plt.plot(history3.history['loss'])\n",
        "plt.plot(history3.history['val_loss'])\n",
        "\n",
        "plt.legend(['train', 'test'], loc='upper right')\n",
        "\n",
        "\n",
        "plt.title('Model loss')\n",
        "plt.ylabel('Loss')\n",
        "plt.xlabel('Epoch')\n",
        "plt.show()"
      ],
      "metadata": {
        "id": "pPc4j_AilpWW"
      },
      "execution_count": null,
      "outputs": []
    },
    {
      "cell_type": "markdown",
      "source": [
        "HE Uniform Initialization also works fine .\n",
        "\n",
        "It also gives us pretty good result for classification\n",
        "\n"
      ],
      "metadata": {
        "id": "PK58vteilpWX"
      }
    }
  ]
}