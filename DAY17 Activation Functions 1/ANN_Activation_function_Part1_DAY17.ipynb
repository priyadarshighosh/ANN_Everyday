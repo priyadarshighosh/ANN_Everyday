{
  "nbformat": 4,
  "nbformat_minor": 0,
  "metadata": {
    "colab": {
      "private_outputs": true,
      "provenance": [],
      "toc_visible": true
    },
    "kernelspec": {
      "name": "python3",
      "display_name": "Python 3"
    },
    "language_info": {
      "name": "python"
    }
  },
  "cells": [
    {
      "cell_type": "markdown",
      "source": [
        "# Activation Function\n",
        "\n",
        "# Sigmoid , Tanh , Linear and RELU"
      ],
      "metadata": {
        "id": "u93QB4H8gs0F"
      }
    },
    {
      "cell_type": "markdown",
      "source": [
        "Importing Python libraries"
      ],
      "metadata": {
        "id": "vrEzW6nDrROu"
      }
    },
    {
      "cell_type": "code",
      "execution_count": null,
      "metadata": {
        "id": "JF9RMWnFZYq3"
      },
      "outputs": [],
      "source": [
        "import numpy as np\n",
        "import pandas as pd\n",
        "import matplotlib.pyplot as plt\n",
        "import seaborn as sns\n"
      ]
    },
    {
      "cell_type": "markdown",
      "source": [
        "IMPORTING MACHINE LEARNING LIBRARIES AND CLASSES"
      ],
      "metadata": {
        "id": "eQYW8ynycqpU"
      }
    },
    {
      "cell_type": "code",
      "source": [
        "from sklearn.model_selection import train_test_split               #for splitting the data into test and training data\n",
        "from sklearn.compose import ColumnTransformer                       #for transforming the columns\n",
        "from sklearn.impute import SimpleImputer                             #for imputing the missing values\n",
        "from sklearn.preprocessing import OneHotEncoder                      #one hot encoding\n",
        "from sklearn.preprocessing import MinMaxScaler                        #standard scaling\n",
        "\n",
        "\n",
        "from sklearn.datasets import make_moons\n",
        "from mlxtend.plotting import plot_decision_regions                   #for decision boundary\n",
        "\n",
        "\n",
        "from sklearn.metrics import accuracy_score                 # for accuracy score\n",
        "from sklearn.model_selection import cross_val_score        # for cross validation score"
      ],
      "metadata": {
        "id": "5H7sUowSa3_I"
      },
      "execution_count": null,
      "outputs": []
    },
    {
      "cell_type": "markdown",
      "source": [
        "Importing Deep learning Libraries"
      ],
      "metadata": {
        "id": "m0W9L8dyrAbl"
      }
    },
    {
      "cell_type": "code",
      "source": [
        "\n",
        "import tensorflow as tf                                                   #deep learning library\n",
        "\n",
        "from tensorflow import keras                                              # keras integrated with tf\n",
        "\n",
        "from tensorflow.keras import Sequential                                   #sequential model - arranging the Keras layers in a sequential order\n",
        "\n",
        "from tensorflow.keras.layers import Dense, Flatten                       # used to process information and simplify arrays in convolutional neural networks\n",
        "\n",
        "from tensorflow.keras.layers import Dropout                              #used to prevent overfitting\n",
        "from tensorflow.keras.callbacks import EarlyStopping\n",
        "from tensorflow.keras.optimizers import Adam                             #Optimizer\n"
      ],
      "metadata": {
        "id": "MJdstiajrA7m"
      },
      "execution_count": null,
      "outputs": []
    },
    {
      "cell_type": "markdown",
      "source": [
        "We are making our own dataset"
      ],
      "metadata": {
        "id": "1BHUDrzIY0y9"
      }
    },
    {
      "cell_type": "code",
      "source": [
        "X , y =make_moons(n_samples=200, noise=0.40, random_state=42)"
      ],
      "metadata": {
        "id": "nZMsdGPkY0Pt"
      },
      "execution_count": null,
      "outputs": []
    },
    {
      "cell_type": "code",
      "source": [
        "plt.scatter(X[:,0],X[:,1], c=y)\n",
        "plt.show()"
      ],
      "metadata": {
        "id": "DxsVDNyVdAMG"
      },
      "execution_count": null,
      "outputs": []
    },
    {
      "cell_type": "markdown",
      "source": [
        "# Neural Network Architechture Linear activation function"
      ],
      "metadata": {
        "id": "mymA7FFYdiIs"
      }
    },
    {
      "cell_type": "code",
      "source": [
        "model1 = Sequential()\n",
        "\n",
        "model1.add(Dense(128, activation='linear',input_dim=2))\n",
        "model1.add(Dense(128, activation='linear'))\n",
        "model1.add(Dense(1, activation='linear'))\n"
      ],
      "metadata": {
        "id": "76H-OPt_ePk2"
      },
      "execution_count": null,
      "outputs": []
    },
    {
      "cell_type": "code",
      "source": [
        "\n",
        "model1.summary()"
      ],
      "metadata": {
        "id": "6h1or_82eRfE"
      },
      "execution_count": null,
      "outputs": []
    },
    {
      "cell_type": "markdown",
      "source": [
        "Compilation of the model"
      ],
      "metadata": {
        "id": "ivR7h2aIexKr"
      }
    },
    {
      "cell_type": "code",
      "source": [
        "adam=Adam(learning_rate=0.01)\n",
        "model1.compile(optimizer=adam, loss='binary_crossentropy', metrics=['accuracy'])"
      ],
      "metadata": {
        "id": "33lj7bk3etDU"
      },
      "execution_count": null,
      "outputs": []
    },
    {
      "cell_type": "markdown",
      "source": [
        "Fitting the model and getting the details"
      ],
      "metadata": {
        "id": "pHCS9U01e1Ck"
      }
    },
    {
      "cell_type": "code",
      "source": [
        "history1=model1.fit(X,y, epochs=100,validation_split=0.2 ,verbose=1)"
      ],
      "metadata": {
        "id": "xs2Lwcdye1Zx"
      },
      "execution_count": null,
      "outputs": []
    },
    {
      "cell_type": "markdown",
      "source": [
        "# Getting the Graph !!"
      ],
      "metadata": {
        "id": "DdOhLlEnga8r"
      }
    },
    {
      "cell_type": "code",
      "source": [
        "plot_decision_regions(X, y.astype('int'),clf=model1, legend=2)\n",
        "plt.xlim(-2,3)\n",
        "plt.ylim(-2,3)\n",
        "plt.show()"
      ],
      "metadata": {
        "id": "3RUKh_PSg5H9"
      },
      "execution_count": null,
      "outputs": []
    },
    {
      "cell_type": "markdown",
      "source": [
        "Accuracy and Prediction"
      ],
      "metadata": {
        "id": "uALwFTXNhWo6"
      }
    },
    {
      "cell_type": "code",
      "source": [
        "plt.plot(history1.history['accuracy'])\n",
        "plt.plot(history1.history['val_accuracy'])\n",
        "\n",
        "plt.legend(['train', 'test'], loc='upper right')\n",
        "\n",
        "\n",
        "plt.title('Model accuracy')\n",
        "plt.ylabel('Accuracy')\n",
        "plt.xlabel('Epoch')\n",
        "plt.show()"
      ],
      "metadata": {
        "id": "fyqpCvV-haOy"
      },
      "execution_count": null,
      "outputs": []
    },
    {
      "cell_type": "code",
      "source": [
        "plt.plot(history1.history['loss'])\n",
        "plt.plot(history1.history['val_loss'])\n",
        "\n",
        "plt.legend(['train', 'test'], loc='upper right')\n",
        "\n",
        "\n",
        "plt.title('Model loss')\n",
        "plt.ylabel('Loss')\n",
        "plt.xlabel('Epoch')\n",
        "plt.show()"
      ],
      "metadata": {
        "id": "kM-9uyJ2hsIf"
      },
      "execution_count": null,
      "outputs": []
    },
    {
      "cell_type": "markdown",
      "source": [
        "Accuracy and Loss are both are horrendous"
      ],
      "metadata": {
        "id": "Wf7_NP--6fUh"
      }
    },
    {
      "cell_type": "markdown",
      "source": [
        "# Neural Network Architechture Sigmoid activation function"
      ],
      "metadata": {
        "id": "RmtkiZdz6-uU"
      }
    },
    {
      "cell_type": "code",
      "source": [
        "model1 = Sequential()\n",
        "\n",
        "model1.add(Dense(128, activation='sigmoid',input_dim=2))\n",
        "model1.add(Dense(128, activation='sigmoid'))\n",
        "model1.add(Dense(1, activation='sigmoid'))\n"
      ],
      "metadata": {
        "id": "ZfMBvnQ_6-uU"
      },
      "execution_count": null,
      "outputs": []
    },
    {
      "cell_type": "code",
      "source": [
        "\n",
        "model1.summary()"
      ],
      "metadata": {
        "id": "61YpRJjd6-uU"
      },
      "execution_count": null,
      "outputs": []
    },
    {
      "cell_type": "markdown",
      "source": [
        "Compilation of the model"
      ],
      "metadata": {
        "id": "1vOWs1kb6-uU"
      }
    },
    {
      "cell_type": "code",
      "source": [
        "adam=Adam(learning_rate=0.01)\n",
        "model1.compile(optimizer=adam, loss='binary_crossentropy', metrics=['accuracy'])"
      ],
      "metadata": {
        "id": "EE_p6wPh6-uU"
      },
      "execution_count": null,
      "outputs": []
    },
    {
      "cell_type": "markdown",
      "source": [
        "Fitting the model and getting the details"
      ],
      "metadata": {
        "id": "bbZIrIbG6-ub"
      }
    },
    {
      "cell_type": "code",
      "source": [
        "history1=model1.fit(X,y, epochs=100,validation_split=0.2 ,verbose=1)"
      ],
      "metadata": {
        "id": "mCJVXLb46-ub"
      },
      "execution_count": null,
      "outputs": []
    },
    {
      "cell_type": "markdown",
      "source": [
        "# Getting the Graph !!"
      ],
      "metadata": {
        "id": "GCyZ3XEy7Ftk"
      }
    },
    {
      "cell_type": "code",
      "source": [
        "plot_decision_regions(X, y.astype('int'),clf=model1, legend=2)\n",
        "plt.xlim(-2,3)\n",
        "plt.ylim(-2,3)\n",
        "plt.show()"
      ],
      "metadata": {
        "id": "O49auhKP7Fty"
      },
      "execution_count": null,
      "outputs": []
    },
    {
      "cell_type": "markdown",
      "source": [
        "Accuracy and Prediction"
      ],
      "metadata": {
        "id": "5_aoGXsH7Fty"
      }
    },
    {
      "cell_type": "code",
      "source": [
        "plt.plot(history1.history['accuracy'])\n",
        "plt.plot(history1.history['val_accuracy'])\n",
        "\n",
        "plt.legend(['train', 'test'], loc='upper right')\n",
        "\n",
        "\n",
        "plt.title('Model accuracy')\n",
        "plt.ylabel('Accuracy')\n",
        "plt.xlabel('Epoch')\n",
        "plt.show()"
      ],
      "metadata": {
        "id": "tI4SpJp-7Fty"
      },
      "execution_count": null,
      "outputs": []
    },
    {
      "cell_type": "code",
      "source": [
        "plt.plot(history1.history['loss'])\n",
        "plt.plot(history1.history['val_loss'])\n",
        "\n",
        "plt.legend(['train', 'test'], loc='upper right')\n",
        "\n",
        "\n",
        "plt.title('Model loss')\n",
        "plt.ylabel('Loss')\n",
        "plt.xlabel('Epoch')\n",
        "plt.show()"
      ],
      "metadata": {
        "id": "GVSY5TG87Ftz"
      },
      "execution_count": null,
      "outputs": []
    },
    {
      "cell_type": "markdown",
      "source": [
        "We got far better result using the sigmoid function that we got using the Linear function"
      ],
      "metadata": {
        "id": "Cme5stKZ8Hqn"
      }
    },
    {
      "cell_type": "markdown",
      "source": [
        "# Neural Network Architechture RELU activation function"
      ],
      "metadata": {
        "id": "qQZdkK8j7ab3"
      }
    },
    {
      "cell_type": "code",
      "source": [
        "model1 = Sequential()\n",
        "\n",
        "model1.add(Dense(128, activation='relu',input_dim=2))\n",
        "model1.add(Dense(128, activation='relu'))\n",
        "model1.add(Dense(1, activation='relu'))\n"
      ],
      "metadata": {
        "id": "4EA5Sz-x7ab4"
      },
      "execution_count": null,
      "outputs": []
    },
    {
      "cell_type": "code",
      "source": [
        "\n",
        "model1.summary()"
      ],
      "metadata": {
        "id": "w86hhke_7ab4"
      },
      "execution_count": null,
      "outputs": []
    },
    {
      "cell_type": "markdown",
      "source": [
        "Compilation of the model"
      ],
      "metadata": {
        "id": "qQb9NMzc7ab4"
      }
    },
    {
      "cell_type": "code",
      "source": [
        "adam=Adam(learning_rate=0.01)\n",
        "model1.compile(optimizer=adam, loss='binary_crossentropy', metrics=['accuracy'])"
      ],
      "metadata": {
        "id": "hobStARY7ab4"
      },
      "execution_count": null,
      "outputs": []
    },
    {
      "cell_type": "markdown",
      "source": [
        "Fitting the model and getting the details"
      ],
      "metadata": {
        "id": "T1jgJA9L7ab4"
      }
    },
    {
      "cell_type": "code",
      "source": [
        "history1=model1.fit(X,y, epochs=100,validation_split=0.2 ,verbose=1)"
      ],
      "metadata": {
        "id": "Lm1OKeB67ab4"
      },
      "execution_count": null,
      "outputs": []
    },
    {
      "cell_type": "markdown",
      "source": [
        "# Getting the Graph !!"
      ],
      "metadata": {
        "id": "bWG0QxVl7kSi"
      }
    },
    {
      "cell_type": "code",
      "source": [
        "plot_decision_regions(X, y.astype('int'),clf=model1, legend=2)\n",
        "plt.xlim(-2,3)\n",
        "plt.ylim(-2,3)\n",
        "plt.show()"
      ],
      "metadata": {
        "id": "dlrWPIqZ7kSj"
      },
      "execution_count": null,
      "outputs": []
    },
    {
      "cell_type": "markdown",
      "source": [
        "Accuracy and Prediction"
      ],
      "metadata": {
        "id": "TX_RQscO7kSj"
      }
    },
    {
      "cell_type": "code",
      "source": [
        "plt.plot(history1.history['accuracy'])\n",
        "plt.plot(history1.history['val_accuracy'])\n",
        "\n",
        "plt.legend(['train', 'test'], loc='upper right')\n",
        "\n",
        "\n",
        "plt.title('Model accuracy')\n",
        "plt.ylabel('Accuracy')\n",
        "plt.xlabel('Epoch')\n",
        "plt.show()"
      ],
      "metadata": {
        "id": "PEUEpMDT7kSj"
      },
      "execution_count": null,
      "outputs": []
    },
    {
      "cell_type": "code",
      "source": [
        "plt.plot(history1.history['loss'])\n",
        "plt.plot(history1.history['val_loss'])\n",
        "\n",
        "plt.legend(['train', 'test'], loc='upper right')\n",
        "\n",
        "\n",
        "plt.title('Model loss')\n",
        "plt.ylabel('Loss')\n",
        "plt.xlabel('Epoch')\n",
        "plt.show()"
      ],
      "metadata": {
        "id": "8pVkXlP17kSj"
      },
      "execution_count": null,
      "outputs": []
    },
    {
      "cell_type": "markdown",
      "source": [
        "We got far better result using the sigmoid function that we got using the Linear function  or the RELU function\n",
        "\n",
        "For linear function --some weird graph came\n",
        "and For Relu function --- Limits of the Loss became very high\n",
        "\n",
        "But in sigmoid everything was Kindoff Balanced"
      ],
      "metadata": {
        "id": "5W1lrXLw8PXJ"
      }
    }
  ]
}