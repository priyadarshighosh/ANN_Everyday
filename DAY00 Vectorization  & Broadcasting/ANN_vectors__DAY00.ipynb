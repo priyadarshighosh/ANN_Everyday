{
  "nbformat": 4,
  "nbformat_minor": 0,
  "metadata": {
    "colab": {
      "private_outputs": true,
      "provenance": []
    },
    "kernelspec": {
      "name": "python3",
      "display_name": "Python 3"
    },
    "language_info": {
      "name": "python"
    }
  },
  "cells": [
    {
      "cell_type": "markdown",
      "source": [
        "# NUMPY Vectors"
      ],
      "metadata": {
        "id": "A5pQk0bQJZ8O"
      }
    },
    {
      "cell_type": "markdown",
      "source": [
        "THIS WILL JUST PRINT 5 VECTORS ONLY 5 NUMBERS , DATA STRUCTURES WONT WORK ."
      ],
      "metadata": {
        "id": "lfxgP2NTKIqL"
      }
    },
    {
      "cell_type": "code",
      "source": [
        "import numpy as np      # we are getting 5 random numbers in a row\n",
        "\n",
        "a= np.random.randn(5)\n",
        "\n",
        "print(a)"
      ],
      "metadata": {
        "id": "9Phx2yBZJOl9"
      },
      "execution_count": null,
      "outputs": []
    },
    {
      "cell_type": "markdown",
      "source": [
        "RANK 1 ARRAY -- DONT APPLY THIS IT GIVES US UNNECESSARY ERRORS"
      ],
      "metadata": {
        "id": "g5_NKZFeK0dk"
      }
    },
    {
      "cell_type": "code",
      "source": [
        "a.shape        # shape of A"
      ],
      "metadata": {
        "id": "vaNZqE9zJfF4"
      },
      "execution_count": null,
      "outputs": []
    },
    {
      "cell_type": "code",
      "source": [
        "a.T           # Transpose of A"
      ],
      "metadata": {
        "id": "IAXtfcQmJjmV"
      },
      "execution_count": null,
      "outputs": []
    },
    {
      "cell_type": "markdown",
      "source": [
        "what will happen if we multiply A and A.T"
      ],
      "metadata": {
        "id": "JeApBsi9JwqJ"
      }
    },
    {
      "cell_type": "code",
      "source": [
        "np.dot(a,a.T)     #DOT PRODUCT"
      ],
      "metadata": {
        "id": "fnGZairOJ5MG"
      },
      "execution_count": null,
      "outputs": []
    },
    {
      "cell_type": "markdown",
      "source": [
        "# Making a Matrix"
      ],
      "metadata": {
        "id": "5MBcbf_oKUUL"
      }
    },
    {
      "cell_type": "code",
      "source": [
        "a = np.random.randn(5,1) # now we see that it forms a 2D array\n",
        "print(a)"
      ],
      "metadata": {
        "id": "ZV7N-XZOKWmg"
      },
      "execution_count": null,
      "outputs": []
    },
    {
      "cell_type": "code",
      "source": [
        "a.T"
      ],
      "metadata": {
        "id": "uCfhyxr1Kel4"
      },
      "execution_count": null,
      "outputs": []
    },
    {
      "cell_type": "markdown",
      "source": [
        "DOT PRODUCT OF VECTOR GIVES MATRIX"
      ],
      "metadata": {
        "id": "S-Eri3GpKuY9"
      }
    },
    {
      "cell_type": "code",
      "source": [
        "np.dot(a,a.T)"
      ],
      "metadata": {
        "id": "h4G7Um0uKiFp"
      },
      "execution_count": null,
      "outputs": []
    },
    {
      "cell_type": "markdown",
      "source": [
        "IF WE DONT KNOW THE SHAPE OF THE VECTOR THEN\n",
        "\n",
        "WE ASSERT THE SHAPE OF THE VECTOR\n",
        "\n"
      ],
      "metadata": {
        "id": "sUIazkNlLHPa"
      }
    },
    {
      "cell_type": "code",
      "source": [
        "assert(a.shape == (5,1))\n",
        "print(a)         #   we can assert shapes and all with the help of this"
      ],
      "metadata": {
        "id": "MqkdfHcPLNgh"
      },
      "execution_count": null,
      "outputs": []
    }
  ]
}