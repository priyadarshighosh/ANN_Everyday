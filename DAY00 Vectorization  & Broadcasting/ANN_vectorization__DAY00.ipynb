{
  "nbformat": 4,
  "nbformat_minor": 0,
  "metadata": {
    "colab": {
      "private_outputs": true,
      "provenance": []
    },
    "kernelspec": {
      "name": "python3",
      "display_name": "Python 3"
    },
    "language_info": {
      "name": "python"
    }
  },
  "cells": [
    {
      "cell_type": "markdown",
      "source": [
        "# Introduction to Vectorization"
      ],
      "metadata": {
        "id": "K4hgzY-SnCzR"
      }
    },
    {
      "cell_type": "code",
      "execution_count": null,
      "metadata": {
        "id": "ZNPk-bsqcBOx"
      },
      "outputs": [],
      "source": [
        "import numpy as np\n",
        "\n",
        "a = np.array([1,2,3,4 ])\n",
        "print(a)"
      ]
    },
    {
      "cell_type": "code",
      "source": [
        "import time\n",
        "\n",
        "a = np.random.rand(1000000)    # 1 lakh dimention array to A\n",
        "b = np.random.rand(1000000)     # 1 lakh dimention array to B\n",
        "\n",
        "tic=time.time()   #calculates the time in the beginning\n",
        "c= np.dot(a,b)\n",
        "toc = time.time()    # calculates the time at the end\n",
        "\n",
        "print(\"Vectorized  version :\" + str(1000*(toc-tic)) + \" ms \")"
      ],
      "metadata": {
        "id": "SpEmDEFzdOKB"
      },
      "execution_count": null,
      "outputs": []
    },
    {
      "cell_type": "code",
      "source": [
        "c=0\n",
        "tic = time.time()\n",
        "for i in range(1000000):\n",
        "  c = c + a[i]*b[i]\n",
        "toc=time.time()\n",
        "\n",
        "print(c)\n",
        "print (\"Non-Vecttorized For Loop: \" + str(1000*(toc-tic)) + \" ms \")\n"
      ],
      "metadata": {
        "id": "ylTB3n3_eO_X"
      },
      "execution_count": null,
      "outputs": []
    },
    {
      "cell_type": "markdown",
      "source": [
        "vectorized version took 1.17 ms\n",
        "while Non vectorized took 462 ms\n",
        "\n",
        "Just Vectorizing makes the code 300 times faster ."
      ],
      "metadata": {
        "id": "i-qVaBZSlCIr"
      }
    },
    {
      "cell_type": "code",
      "source": [],
      "metadata": {
        "id": "m2bsG5ConVSm"
      },
      "execution_count": null,
      "outputs": []
    }
  ]
}